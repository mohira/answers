{
 "cells": [
  {
   "cell_type": "markdown",
   "metadata": {},
   "source": [
    "# README\n",
    "- [sklearn.datasets.load_breast_cancer](https://scikit-learn.org/stable/modules/generated/sklearn.datasets.load_breast_cancer.html#sklearn.datasets.load_breast_cancer)\n",
    " を使い、交差検証を行う\n",
    "- EDAは省略\n"
   ]
  },
  {
   "cell_type": "code",
   "execution_count": 1,
   "metadata": {
    "ExecuteTime": {
     "end_time": "2019-10-03T03:37:08.200556Z",
     "start_time": "2019-10-03T03:37:07.838783Z"
    }
   },
   "outputs": [],
   "source": [
    "import warnings\n",
    "\n",
    "import matplotlib.pyplot as plt\n",
    "import numpy as np\n",
    "import pandas as pd\n",
    "import seaborn as sns\n",
    "\n",
    "warnings.filterwarnings('ignore')\n",
    "\n",
    "%precision 3\n",
    "%matplotlib inline"
   ]
  },
  {
   "cell_type": "markdown",
   "metadata": {},
   "source": [
    "# データの準備"
   ]
  },
  {
   "cell_type": "code",
   "execution_count": 2,
   "metadata": {
    "ExecuteTime": {
     "end_time": "2019-10-03T03:37:08.329168Z",
     "start_time": "2019-10-03T03:37:08.201886Z"
    }
   },
   "outputs": [],
   "source": [
    "from sklearn.datasets import load_breast_cancer\n",
    "from sklearn.model_selection import train_test_split\n",
    "\n",
    "cancer = load_breast_cancer()\n",
    "\n",
    "X = cancer.data\n",
    "y = cancer.target\n",
    "\n",
    "X_trainval, X_test, y_trainval, y_test = train_test_split(X,\n",
    "                                                          y,\n",
    "                                                          train_size=0.80,\n",
    "                                                          random_state=0)"
   ]
  },
  {
   "cell_type": "markdown",
   "metadata": {},
   "source": [
    "# 交差検証\n"
   ]
  },
  {
   "cell_type": "code",
   "execution_count": 3,
   "metadata": {
    "ExecuteTime": {
     "end_time": "2019-10-03T03:37:08.380207Z",
     "start_time": "2019-10-03T03:37:08.330643Z"
    }
   },
   "outputs": [],
   "source": [
    "from sklearn.linear_model import LogisticRegression\n",
    "from sklearn.model_selection import KFold, cross_validate\n",
    "from sklearn.neighbors import KNeighborsClassifier\n",
    "from sklearn.tree import DecisionTreeClassifier"
   ]
  },
  {
   "cell_type": "code",
   "execution_count": 71,
   "metadata": {
    "ExecuteTime": {
     "end_time": "2019-10-03T04:06:16.309178Z",
     "start_time": "2019-10-03T04:06:16.286783Z"
    }
   },
   "outputs": [],
   "source": [
    "# Foldの準備\n",
    "kfold = KFold(n_splits=7, shuffle=True, random_state=0)"
   ]
  },
  {
   "cell_type": "markdown",
   "metadata": {},
   "source": [
    "## 単純な交差検証その1: `cross_validate()`\n"
   ]
  },
  {
   "cell_type": "code",
   "execution_count": 72,
   "metadata": {
    "ExecuteTime": {
     "end_time": "2019-10-03T04:06:16.661288Z",
     "start_time": "2019-10-03T04:06:16.608424Z"
    }
   },
   "outputs": [
    {
     "data": {
      "text/plain": [
       "{'fit_time': array([0.003, 0.003, 0.003, 0.003, 0.003, 0.003, 0.003]),\n",
       " 'score_time': array([0.001, 0.001, 0.001, 0.001, 0.001, 0.001, 0.001]),\n",
       " 'test_accuracy': array([0.923, 0.954, 0.985, 0.938, 0.969, 0.985, 0.923]),\n",
       " 'test_recall': array([0.905, 0.974, 1.   , 1.   , 0.974, 1.   , 0.947])}"
      ]
     },
     "execution_count": 72,
     "metadata": {},
     "output_type": "execute_result"
    }
   ],
   "source": [
    "cv_logreg = cross_validate(LogisticRegression(),\n",
    "                           X_trainval,\n",
    "                           y_trainval,\n",
    "                           cv=kfold,  # int指定も可能。その場合StratifiedKFoldが設定される\n",
    "                           scoring=['accuracy', 'recall'])\n",
    "\n",
    "cv_logreg"
   ]
  },
  {
   "cell_type": "code",
   "execution_count": 73,
   "metadata": {
    "ExecuteTime": {
     "end_time": "2019-10-03T04:06:16.880834Z",
     "start_time": "2019-10-03T04:06:16.825479Z"
    }
   },
   "outputs": [
    {
     "data": {
      "text/plain": [
       "{'fit_time': array([0.004, 0.003, 0.004, 0.003, 0.004, 0.004, 0.004]),\n",
       " 'score_time': array([0.001, 0.001, 0.001, 0.001, 0.001, 0.001, 0.001]),\n",
       " 'test_accuracy': array([0.862, 0.892, 0.892, 0.969, 0.877, 0.892, 0.908]),\n",
       " 'test_recall': array([0.833, 0.895, 0.867, 0.978, 0.872, 0.905, 0.947])}"
      ]
     },
     "execution_count": 73,
     "metadata": {},
     "output_type": "execute_result"
    }
   ],
   "source": [
    "cv_dt = cross_validate(DecisionTreeClassifier(),\n",
    "                       X_trainval,\n",
    "                       y_trainval,\n",
    "                       cv=kfold,  # int指定も可能。その場合StratifiedKFoldが設定される\n",
    "                       scoring=['accuracy', 'recall'])\n",
    "\n",
    "cv_dt"
   ]
  },
  {
   "cell_type": "code",
   "execution_count": 74,
   "metadata": {
    "ExecuteTime": {
     "end_time": "2019-10-03T04:06:17.102865Z",
     "start_time": "2019-10-03T04:06:17.040095Z"
    }
   },
   "outputs": [
    {
     "data": {
      "text/plain": [
       "{'fit_time': array([0.001, 0.   , 0.   , 0.   , 0.   , 0.   , 0.   ]),\n",
       " 'score_time': array([0.006, 0.005, 0.005, 0.005, 0.005, 0.005, 0.005]),\n",
       " 'test_accuracy': array([0.954, 0.892, 0.923, 0.923, 0.954, 0.908, 0.923]),\n",
       " 'test_recall': array([0.952, 0.895, 0.956, 0.978, 0.974, 0.976, 0.921])}"
      ]
     },
     "execution_count": 74,
     "metadata": {},
     "output_type": "execute_result"
    }
   ],
   "source": [
    "cv_knn = cross_validate(KNeighborsClassifier(),\n",
    "                        X_trainval,\n",
    "                        y_trainval,\n",
    "                        cv=kfold,  # int指定も可能。その場合StratifiedKFoldが設定される\n",
    "                        scoring=['accuracy', 'recall'])\n",
    "\n",
    "cv_knn"
   ]
  },
  {
   "cell_type": "markdown",
   "metadata": {},
   "source": [
    "## 単純な交差検証その2(KFoldを利用して自作)"
   ]
  },
  {
   "cell_type": "code",
   "execution_count": 75,
   "metadata": {
    "ExecuteTime": {
     "end_time": "2019-10-03T04:06:17.503697Z",
     "start_time": "2019-10-03T04:06:17.447419Z"
    }
   },
   "outputs": [
    {
     "name": "stdout",
     "output_type": "stream",
     "text": [
      "[0.9230769230769231, 0.9538461538461539, 0.9846153846153847, 0.9384615384615385, 0.9692307692307692, 0.9846153846153847, 0.9230769230769231]\n",
      "Mean: 0.954 Std: 0.025\n"
     ]
    }
   ],
   "source": [
    "valid_scores = []\n",
    "\n",
    "for train_index, valid_index in kfold.split(X_trainval, y_trainval):\n",
    "    X_train, X_valid = X_trainval[train_index], X_trainval[valid_index]\n",
    "    y_train, y_valid = y_trainval[train_index], y_trainval[valid_index]\n",
    "\n",
    "    clf = LogisticRegression()\n",
    "    clf.fit(X_train, y_train)\n",
    "\n",
    "    acc_valid = clf.score(X_valid, y_valid)\n",
    "    valid_scores.append(acc_valid)\n",
    "\n",
    "\n",
    "print(valid_scores)\n",
    "print(f'Mean: {np.mean(valid_scores):.3f} Std: {np.std(valid_scores):.3f}')"
   ]
  },
  {
   "cell_type": "markdown",
   "metadata": {
    "ExecuteTime": {
     "end_time": "2019-10-03T03:35:26.432491Z",
     "start_time": "2019-10-03T03:35:26.387762Z"
    }
   },
   "source": [
    "## パラメータチューニングあり交差検証その1(自作)"
   ]
  },
  {
   "cell_type": "code",
   "execution_count": 76,
   "metadata": {
    "ExecuteTime": {
     "end_time": "2019-10-03T04:06:19.489087Z",
     "start_time": "2019-10-03T04:06:17.762013Z"
    }
   },
   "outputs": [
    {
     "name": "stdout",
     "output_type": "stream",
     "text": [
      "Best params: {'C': 1, 'gamma': 0.001}\n",
      "Best acc: 0.916\n"
     ]
    }
   ],
   "source": [
    "from sklearn.model_selection import ParameterGrid\n",
    "from sklearn.svm import SVC\n",
    "\n",
    "param_grid = {\n",
    "    'C': [0.001, 0.01, 0.1, 1, 10, 100],\n",
    "    'gamma': [0.001, 0.01, 0.1, 1, 10, 100],\n",
    "}\n",
    "\n",
    "best_params = {}\n",
    "best_mean_acc = 0\n",
    "\n",
    "all_acc = np.array([], dtype=np.float64)\n",
    "all_std = np.array([], dtype=np.float64)\n",
    "\n",
    "for params in ParameterGrid(param_grid):\n",
    "    valid_scores = []\n",
    "\n",
    "    for train_index, valid_index in kfold.split(X_trainval, y_trainval):\n",
    "        X_train, X_valid = X_trainval[train_index], X_trainval[valid_index]\n",
    "        y_train, y_valid = y_trainval[train_index], y_trainval[valid_index]\n",
    "\n",
    "        # `**` をつけると辞書でそのまま渡せる\n",
    "        clf = SVC(**params)\n",
    "        clf.fit(X_train, y_train)\n",
    "\n",
    "        acc_valid = clf.score(X_valid, y_valid)\n",
    "        valid_scores.append(acc_valid)\n",
    "\n",
    "    mean_acc = np.mean(valid_scores)\n",
    "    mean_std = np.std(valid_scores)\n",
    "    all_acc = np.append(all_acc, mean_acc)\n",
    "    all_std = np.append(all_std, mean_std)\n",
    "\n",
    "    if mean_acc > best_mean_acc:\n",
    "        best_mean_acc = mean_acc\n",
    "        best_params = params\n",
    "\n",
    "print(f'Best params: {best_params}')\n",
    "print(f'Best acc: {best_mean_acc:.3f}')"
   ]
  },
  {
   "cell_type": "code",
   "execution_count": 77,
   "metadata": {
    "ExecuteTime": {
     "end_time": "2019-10-03T04:06:19.680035Z",
     "start_time": "2019-10-03T04:06:19.650202Z"
    }
   },
   "outputs": [
    {
     "name": "stdout",
     "output_type": "stream",
     "text": [
      "Test acc: 0.921\n"
     ]
    }
   ],
   "source": [
    "# 最も良かったパラメータかつ、すべての学習データを使って学習\n",
    "retrained_model = SVC(**best_params)\n",
    "retrained_model.fit(X_trainval, y_trainval)\n",
    "\n",
    "final_score = retrained_model.score(X_test, y_test)\n",
    "print(f'Test acc: {final_score:.3f}')"
   ]
  },
  {
   "cell_type": "markdown",
   "metadata": {
    "ExecuteTime": {
     "end_time": "2019-10-03T03:29:43.534928Z",
     "start_time": "2019-10-03T03:29:43.495597Z"
    }
   },
   "source": [
    "## パラメータチューニングあり交差検証その2(`GridSearchCV`)"
   ]
  },
  {
   "cell_type": "code",
   "execution_count": 78,
   "metadata": {
    "ExecuteTime": {
     "end_time": "2019-10-03T04:06:21.108749Z",
     "start_time": "2019-10-03T04:06:19.839742Z"
    }
   },
   "outputs": [
    {
     "name": "stdout",
     "output_type": "stream",
     "text": [
      "Best params: {'C': 1, 'gamma': 0.001}\n",
      "Best acc: 0.916\n"
     ]
    }
   ],
   "source": [
    "from sklearn.model_selection import GridSearchCV\n",
    "\n",
    "param_grid = {\n",
    "    'C': [0.001, 0.01, 0.1, 1, 10, 100],\n",
    "    'gamma': [0.001, 0.01, 0.1, 1, 10, 100],\n",
    "}\n",
    "\n",
    "gs = GridSearchCV(SVC(),\n",
    "                  param_grid,\n",
    "                  cv=kfold,\n",
    "                  scoring='accuracy',\n",
    "                  n_jobs=-1 # 計算にすべてのコアを使う\n",
    "                  )\n",
    "\n",
    "# 交差検証および、チャンピオンパラメータでの再学習までやってくれる\n",
    "gs.fit(X_trainval, y_trainval)\n",
    "\n",
    "print(f'Best params: {gs.best_params_}')\n",
    "print(f'Best acc: {gs.best_score_:.3f}')"
   ]
  },
  {
   "cell_type": "code",
   "execution_count": 79,
   "metadata": {
    "ExecuteTime": {
     "end_time": "2019-10-03T04:06:21.291856Z",
     "start_time": "2019-10-03T04:06:21.270940Z"
    }
   },
   "outputs": [
    {
     "name": "stdout",
     "output_type": "stream",
     "text": [
      "Test acc: 0.921\n"
     ]
    }
   ],
   "source": [
    "final_score = gs.score(X_test, y_test)\n",
    "print(f'Test acc: {final_score:.3f}')"
   ]
  },
  {
   "cell_type": "code",
   "execution_count": 80,
   "metadata": {
    "ExecuteTime": {
     "end_time": "2019-10-03T04:06:21.479767Z",
     "start_time": "2019-10-03T04:06:21.453079Z"
    }
   },
   "outputs": [
    {
     "data": {
      "text/plain": [
       "{'mean_fit_time': array([0.008, 0.007, 0.006, 0.008, 0.008, 0.007, 0.008, 0.008, 0.007,\n",
       "        0.006, 0.007, 0.008, 0.007, 0.009, 0.01 , 0.009, 0.008, 0.009,\n",
       "        0.009, 0.01 , 0.01 , 0.009, 0.009, 0.009, 0.01 , 0.011, 0.01 ,\n",
       "        0.011, 0.011, 0.01 , 0.008, 0.011, 0.011, 0.008, 0.011, 0.01 ]),\n",
       " 'std_fit_time': array([0.   , 0.001, 0.   , 0.001, 0.   , 0.   , 0.001, 0.001, 0.001,\n",
       "        0.   , 0.001, 0.   , 0.   , 0.001, 0.001, 0.   , 0.001, 0.001,\n",
       "        0.   , 0.001, 0.001, 0.   , 0.001, 0.002, 0.001, 0.   , 0.001,\n",
       "        0.   , 0.001, 0.002, 0.001, 0.   , 0.001, 0.002, 0.001, 0.001]),\n",
       " 'mean_score_time': array([0.001, 0.001, 0.001, 0.001, 0.001, 0.001, 0.001, 0.001, 0.001,\n",
       "        0.001, 0.001, 0.001, 0.001, 0.001, 0.001, 0.001, 0.001, 0.001,\n",
       "        0.001, 0.001, 0.001, 0.001, 0.001, 0.001, 0.001, 0.001, 0.001,\n",
       "        0.001, 0.001, 0.001, 0.001, 0.002, 0.001, 0.001, 0.001, 0.001]),\n",
       " 'std_score_time': array([2.565e-05, 1.654e-04, 3.050e-05, 2.585e-05, 1.435e-04, 1.537e-04,\n",
       "        8.940e-05, 8.598e-05, 1.659e-04, 1.623e-04, 2.276e-04, 1.875e-05,\n",
       "        7.478e-05, 1.754e-04, 1.215e-05, 1.273e-05, 1.774e-04, 3.989e-05,\n",
       "        4.138e-05, 1.531e-04, 1.277e-04, 2.089e-04, 3.965e-05, 1.857e-04,\n",
       "        4.193e-05, 3.634e-05, 1.712e-04, 1.456e-04, 2.667e-04, 1.971e-04,\n",
       "        1.318e-04, 3.772e-05, 1.624e-04, 2.410e-04, 1.258e-05, 1.215e-04]),\n",
       " 'param_C': masked_array(data=[0.001, 0.001, 0.001, 0.001, 0.001, 0.001, 0.01, 0.01,\n",
       "                    0.01, 0.01, 0.01, 0.01, 0.1, 0.1, 0.1, 0.1, 0.1, 0.1,\n",
       "                    1, 1, 1, 1, 1, 1, 10, 10, 10, 10, 10, 10, 100, 100,\n",
       "                    100, 100, 100, 100],\n",
       "              mask=[False, False, False, False, False, False, False, False,\n",
       "                    False, False, False, False, False, False, False, False,\n",
       "                    False, False, False, False, False, False, False, False,\n",
       "                    False, False, False, False, False, False, False, False,\n",
       "                    False, False, False, False],\n",
       "        fill_value='?',\n",
       "             dtype=object),\n",
       " 'param_gamma': masked_array(data=[0.001, 0.01, 0.1, 1, 10, 100, 0.001, 0.01, 0.1, 1, 10,\n",
       "                    100, 0.001, 0.01, 0.1, 1, 10, 100, 0.001, 0.01, 0.1, 1,\n",
       "                    10, 100, 0.001, 0.01, 0.1, 1, 10, 100, 0.001, 0.01,\n",
       "                    0.1, 1, 10, 100],\n",
       "              mask=[False, False, False, False, False, False, False, False,\n",
       "                    False, False, False, False, False, False, False, False,\n",
       "                    False, False, False, False, False, False, False, False,\n",
       "                    False, False, False, False, False, False, False, False,\n",
       "                    False, False, False, False],\n",
       "        fill_value='?',\n",
       "             dtype=object),\n",
       " 'params': [{'C': 0.001, 'gamma': 0.001},\n",
       "  {'C': 0.001, 'gamma': 0.010},\n",
       "  {'C': 0.001, 'gamma': 0.100},\n",
       "  {'C': 0.001, 'gamma': 1},\n",
       "  {'C': 0.001, 'gamma': 10},\n",
       "  {'C': 0.001, 'gamma': 100},\n",
       "  {'C': 0.010, 'gamma': 0.001},\n",
       "  {'C': 0.010, 'gamma': 0.010},\n",
       "  {'C': 0.010, 'gamma': 0.100},\n",
       "  {'C': 0.010, 'gamma': 1},\n",
       "  {'C': 0.010, 'gamma': 10},\n",
       "  {'C': 0.010, 'gamma': 100},\n",
       "  {'C': 0.100, 'gamma': 0.001},\n",
       "  {'C': 0.100, 'gamma': 0.010},\n",
       "  {'C': 0.100, 'gamma': 0.100},\n",
       "  {'C': 0.100, 'gamma': 1},\n",
       "  {'C': 0.100, 'gamma': 10},\n",
       "  {'C': 0.100, 'gamma': 100},\n",
       "  {'C': 1, 'gamma': 0.001},\n",
       "  {'C': 1, 'gamma': 0.010},\n",
       "  {'C': 1, 'gamma': 0.100},\n",
       "  {'C': 1, 'gamma': 1},\n",
       "  {'C': 1, 'gamma': 10},\n",
       "  {'C': 1, 'gamma': 100},\n",
       "  {'C': 10, 'gamma': 0.001},\n",
       "  {'C': 10, 'gamma': 0.010},\n",
       "  {'C': 10, 'gamma': 0.100},\n",
       "  {'C': 10, 'gamma': 1},\n",
       "  {'C': 10, 'gamma': 10},\n",
       "  {'C': 10, 'gamma': 100},\n",
       "  {'C': 100, 'gamma': 0.001},\n",
       "  {'C': 100, 'gamma': 0.010},\n",
       "  {'C': 100, 'gamma': 0.100},\n",
       "  {'C': 100, 'gamma': 1},\n",
       "  {'C': 100, 'gamma': 10},\n",
       "  {'C': 100, 'gamma': 100}],\n",
       " 'split0_test_score': array([0.646, 0.646, 0.646, 0.646, 0.646, 0.646, 0.646, 0.646, 0.646,\n",
       "        0.646, 0.646, 0.646, 0.646, 0.646, 0.646, 0.646, 0.646, 0.646,\n",
       "        0.923, 0.646, 0.646, 0.646, 0.646, 0.646, 0.908, 0.646, 0.646,\n",
       "        0.646, 0.646, 0.646, 0.908, 0.646, 0.646, 0.646, 0.646, 0.646]),\n",
       " 'split1_test_score': array([0.585, 0.585, 0.585, 0.585, 0.585, 0.585, 0.585, 0.585, 0.585,\n",
       "        0.585, 0.585, 0.585, 0.585, 0.585, 0.585, 0.585, 0.585, 0.585,\n",
       "        0.862, 0.585, 0.585, 0.585, 0.585, 0.585, 0.846, 0.585, 0.585,\n",
       "        0.585, 0.585, 0.585, 0.846, 0.585, 0.585, 0.585, 0.585, 0.585]),\n",
       " 'split2_test_score': array([0.692, 0.692, 0.692, 0.692, 0.692, 0.692, 0.692, 0.692, 0.692,\n",
       "        0.692, 0.692, 0.692, 0.692, 0.692, 0.692, 0.692, 0.692, 0.692,\n",
       "        0.908, 0.677, 0.692, 0.692, 0.692, 0.692, 0.892, 0.677, 0.692,\n",
       "        0.692, 0.692, 0.692, 0.892, 0.677, 0.692, 0.692, 0.692, 0.692]),\n",
       " 'split3_test_score': array([0.708, 0.708, 0.708, 0.708, 0.708, 0.708, 0.708, 0.708, 0.708,\n",
       "        0.708, 0.708, 0.708, 0.708, 0.708, 0.708, 0.708, 0.708, 0.708,\n",
       "        0.938, 0.708, 0.708, 0.708, 0.708, 0.708, 0.938, 0.708, 0.708,\n",
       "        0.708, 0.708, 0.708, 0.938, 0.708, 0.708, 0.708, 0.708, 0.708]),\n",
       " 'split4_test_score': array([0.6  , 0.6  , 0.6  , 0.6  , 0.6  , 0.6  , 0.6  , 0.6  , 0.6  ,\n",
       "        0.6  , 0.6  , 0.6  , 0.6  , 0.6  , 0.6  , 0.6  , 0.6  , 0.6  ,\n",
       "        0.923, 0.6  , 0.6  , 0.6  , 0.6  , 0.6  , 0.908, 0.6  , 0.6  ,\n",
       "        0.6  , 0.6  , 0.6  , 0.908, 0.6  , 0.6  , 0.6  , 0.6  , 0.6  ]),\n",
       " 'split5_test_score': array([0.646, 0.646, 0.646, 0.646, 0.646, 0.646, 0.646, 0.646, 0.646,\n",
       "        0.646, 0.646, 0.646, 0.646, 0.646, 0.646, 0.646, 0.646, 0.646,\n",
       "        0.938, 0.646, 0.646, 0.646, 0.646, 0.646, 0.923, 0.646, 0.646,\n",
       "        0.646, 0.646, 0.646, 0.923, 0.646, 0.646, 0.646, 0.646, 0.646]),\n",
       " 'split6_test_score': array([0.585, 0.585, 0.585, 0.585, 0.585, 0.585, 0.585, 0.585, 0.585,\n",
       "        0.585, 0.585, 0.585, 0.585, 0.585, 0.585, 0.585, 0.585, 0.585,\n",
       "        0.923, 0.585, 0.585, 0.585, 0.585, 0.585, 0.877, 0.569, 0.585,\n",
       "        0.585, 0.585, 0.585, 0.877, 0.569, 0.585, 0.585, 0.585, 0.585]),\n",
       " 'mean_test_score': array([0.637, 0.637, 0.637, 0.637, 0.637, 0.637, 0.637, 0.637, 0.637,\n",
       "        0.637, 0.637, 0.637, 0.637, 0.637, 0.637, 0.637, 0.637, 0.637,\n",
       "        0.916, 0.635, 0.637, 0.637, 0.637, 0.637, 0.899, 0.633, 0.637,\n",
       "        0.637, 0.637, 0.637, 0.899, 0.633, 0.637, 0.637, 0.637, 0.637]),\n",
       " 'std_test_score': array([0.046, 0.046, 0.046, 0.046, 0.046, 0.046, 0.046, 0.046, 0.046,\n",
       "        0.046, 0.046, 0.046, 0.046, 0.046, 0.046, 0.046, 0.046, 0.046,\n",
       "        0.024, 0.044, 0.046, 0.046, 0.046, 0.046, 0.028, 0.047, 0.046,\n",
       "        0.046, 0.046, 0.046, 0.028, 0.047, 0.046, 0.046, 0.046, 0.046]),\n",
       " 'rank_test_score': array([ 4,  4,  4,  4,  4,  4,  4,  4,  4,  4,  4,  4,  4,  4,  4,  4,  4,\n",
       "         4,  1, 34,  4,  4,  4,  4,  2, 35,  4,  4,  4,  4,  2, 35,  4,  4,\n",
       "         4,  4], dtype=int32)}"
      ]
     },
     "execution_count": 80,
     "metadata": {},
     "output_type": "execute_result"
    }
   ],
   "source": [
    "# 詳細な結果\n",
    "gs.cv_results_"
   ]
  },
  {
   "cell_type": "markdown",
   "metadata": {},
   "source": [
    "おわり"
   ]
  }
 ],
 "metadata": {
  "hide_input": false,
  "kernelspec": {
   "display_name": "Python 3",
   "language": "python",
   "name": "python3"
  },
  "language_info": {
   "codemirror_mode": {
    "name": "ipython",
    "version": 3
   },
   "file_extension": ".py",
   "mimetype": "text/x-python",
   "name": "python",
   "nbconvert_exporter": "python",
   "pygments_lexer": "ipython3",
   "version": "3.7.1"
  },
  "toc": {
   "base_numbering": 1,
   "nav_menu": {},
   "number_sections": true,
   "sideBar": true,
   "skip_h1_title": false,
   "title_cell": "Table of Contents",
   "title_sidebar": "Contents",
   "toc_cell": false,
   "toc_position": {},
   "toc_section_display": true,
   "toc_window_display": false
  },
  "varInspector": {
   "cols": {
    "lenName": 16,
    "lenType": 16,
    "lenVar": 40
   },
   "kernels_config": {
    "python": {
     "delete_cmd_postfix": "",
     "delete_cmd_prefix": "del ",
     "library": "var_list.py",
     "varRefreshCmd": "print(var_dic_list())"
    },
    "r": {
     "delete_cmd_postfix": ") ",
     "delete_cmd_prefix": "rm(",
     "library": "var_list.r",
     "varRefreshCmd": "cat(var_dic_list()) "
    }
   },
   "types_to_exclude": [
    "module",
    "function",
    "builtin_function_or_method",
    "instance",
    "_Feature"
   ],
   "window_display": false
  },
  "pycharm": {
   "stem_cell": {
    "cell_type": "raw",
    "source": [],
    "metadata": {
     "collapsed": false
    }
   }
  }
 },
 "nbformat": 4,
 "nbformat_minor": 2
}