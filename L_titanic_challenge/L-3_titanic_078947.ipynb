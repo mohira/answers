{
 "cells": [
  {
   "cell_type": "markdown",
   "metadata": {},
   "source": [
    "# README\n",
    "## 基本\n",
    "- ロジスティック回帰\n",
    "- 標準化 & GridSearch\n",
    "- Embarked: 最頻値埋め & LabelEncoding\n",
    "- Pclass: LabelEncoding\n",
    "- FamilySize\n",
    "- IsMaster\n",
    "\n",
    "## ポイント\n",
    "- 男性でも赤ちゃんは生存しやすい仮説 → 男の赤ちゃん(敬称がMaster)は助かる"
   ]
  },
  {
   "cell_type": "code",
   "execution_count": 1,
   "metadata": {
    "ExecuteTime": {
     "end_time": "2019-10-05T09:17:29.539741Z",
     "start_time": "2019-10-05T09:17:28.990030Z"
    }
   },
   "outputs": [],
   "source": [
    "import warnings\n",
    "\n",
    "import matplotlib.pyplot as plt\n",
    "import numpy as np\n",
    "import pandas as pd\n",
    "import seaborn as sns\n",
    "from sklearn.linear_model import LogisticRegression\n",
    "from sklearn.model_selection import GridSearchCV, StratifiedKFold\n",
    "from sklearn.pipeline import Pipeline\n",
    "from sklearn.preprocessing import StandardScaler\n",
    "\n",
    "warnings.filterwarnings('ignore')\n",
    "\n",
    "%matplotlib inline"
   ]
  },
  {
   "cell_type": "markdown",
   "metadata": {},
   "source": [
    "# データの準備"
   ]
  },
  {
   "cell_type": "code",
   "execution_count": 2,
   "metadata": {
    "ExecuteTime": {
     "end_time": "2019-10-05T09:17:29.571625Z",
     "start_time": "2019-10-05T09:17:29.541671Z"
    }
   },
   "outputs": [],
   "source": [
    "train_org = pd.read_csv('input/titanic/train.csv')\n",
    "test_org = pd.read_csv('input/titanic/test.csv')\n",
    "\n",
    "train = train_org[[\n",
    "    # 'PassengerId',\n",
    "    'Survived',\n",
    "    'Pclass',\n",
    "    'Name',\n",
    "    'Sex',\n",
    "    # 'Age',\n",
    "    'SibSp',\n",
    "    'Parch',\n",
    "    # 'Ticket',\n",
    "    # 'Fare',\n",
    "    # 'Cabin',\n",
    "    'Embarked'\n",
    "]].copy()\n",
    "\n",
    "test = test_org[[\n",
    "    # 'PassengerId',\n",
    "    'Pclass',\n",
    "    'Name',\n",
    "    'Sex',\n",
    "    # 'Age',\n",
    "    'SibSp',\n",
    "    'Parch',\n",
    "    # 'Ticket',\n",
    "    # 'Fare',\n",
    "    # 'Cabin',\n",
    "    'Embarked'\n",
    "]].copy()"
   ]
  },
  {
   "cell_type": "markdown",
   "metadata": {},
   "source": [
    "# 幼い乗客の生存率を調べてみる"
   ]
  },
  {
   "cell_type": "code",
   "execution_count": 9,
   "metadata": {
    "ExecuteTime": {
     "end_time": "2019-10-05T09:17:54.208312Z",
     "start_time": "2019-10-05T09:17:53.996855Z"
    }
   },
   "outputs": [
    {
     "data": {
      "text/plain": [
       "<matplotlib.legend.Legend at 0x12c8f4cf8>"
      ]
     },
     "execution_count": 9,
     "metadata": {},
     "output_type": "execute_result"
    },
    {
     "data": {
      "image/png": "[encoded data removed]",
      "text/plain": [
       "<Figure size 432x288 with 1 Axes>"
      ]
     },
     "metadata": {
      "needs_background": "light"
     },
     "output_type": "display_data"
    }
   ],
   "source": [
    "age_survived = train_org[train_org['Survived'] == 1]['Age'].dropna()\n",
    "age_dead = train_org[train_org['Survived'] == 0]['Age'].dropna()\n",
    "\n",
    "sns.distplot(age_survived[age_survived <= 5], kde=False, label='Survived')\n",
    "sns.distplot(age_dead[age_dead <= 5], kde=False, label='dead')\n",
    "\n",
    "plt.legend()"
   ]
  },
  {
   "cell_type": "markdown",
   "metadata": {},
   "source": [
    "# 前処理"
   ]
  },
  {
   "cell_type": "code",
   "execution_count": 4,
   "metadata": {
    "ExecuteTime": {
     "end_time": "2019-10-05T09:17:29.831675Z",
     "start_time": "2019-10-05T09:17:29.786269Z"
    }
   },
   "outputs": [
    {
     "data": {
      "text/html": [
       "<div>\n",
       "<style scoped>\n",
       "    .dataframe tbody tr th:only-of-type {\n",
       "        vertical-align: middle;\n",
       "    }\n",
       "\n",
       "    .dataframe tbody tr th {\n",
       "        vertical-align: top;\n",
       "    }\n",
       "\n",
       "    .dataframe thead th {\n",
       "        text-align: right;\n",
       "    }\n",
       "</style>\n",
       "<table border=\"1\" class=\"dataframe\">\n",
       "  <thead>\n",
       "    <tr style=\"text-align: right;\">\n",
       "      <th></th>\n",
       "      <th>Pclass</th>\n",
       "      <th>Sex</th>\n",
       "      <th>Embarked</th>\n",
       "      <th>FamilySize</th>\n",
       "      <th>IsMaster</th>\n",
       "    </tr>\n",
       "  </thead>\n",
       "  <tbody>\n",
       "    <tr>\n",
       "      <td>0</td>\n",
       "      <td>3</td>\n",
       "      <td>0</td>\n",
       "      <td>0</td>\n",
       "      <td>2</td>\n",
       "      <td>0</td>\n",
       "    </tr>\n",
       "    <tr>\n",
       "      <td>1</td>\n",
       "      <td>1</td>\n",
       "      <td>1</td>\n",
       "      <td>1</td>\n",
       "      <td>2</td>\n",
       "      <td>0</td>\n",
       "    </tr>\n",
       "    <tr>\n",
       "      <td>2</td>\n",
       "      <td>3</td>\n",
       "      <td>1</td>\n",
       "      <td>0</td>\n",
       "      <td>1</td>\n",
       "      <td>0</td>\n",
       "    </tr>\n",
       "    <tr>\n",
       "      <td>3</td>\n",
       "      <td>1</td>\n",
       "      <td>1</td>\n",
       "      <td>0</td>\n",
       "      <td>2</td>\n",
       "      <td>0</td>\n",
       "    </tr>\n",
       "    <tr>\n",
       "      <td>4</td>\n",
       "      <td>3</td>\n",
       "      <td>0</td>\n",
       "      <td>0</td>\n",
       "      <td>1</td>\n",
       "      <td>0</td>\n",
       "    </tr>\n",
       "  </tbody>\n",
       "</table>\n",
       "</div>"
      ],
      "text/plain": [
       "   Pclass  Sex  Embarked  FamilySize  IsMaster\n",
       "0       3    0         0           2         0\n",
       "1       1    1         1           2         0\n",
       "2       3    1         0           1         0\n",
       "3       1    1         0           2         0\n",
       "4       3    0         0           1         0"
      ]
     },
     "execution_count": 4,
     "metadata": {},
     "output_type": "execute_result"
    }
   ],
   "source": [
    "# データが小さいことに加え、すぐに試せることを重視して、すべての前処理を1つの関数にしている\n",
    "def preprocess(train_org, test_org):\n",
    "    train = train_org.copy()\n",
    "    test = test_org.copy()\n",
    "\n",
    "    # Sex\n",
    "    sex_dict = {'male': 0, 'female': 1}\n",
    "    train['Sex'] = train['Sex'].map(sex_dict)\n",
    "    test['Sex'] = test['Sex'].map(sex_dict)\n",
    "\n",
    "    # Embarked\n",
    "    train['Embarked'] = train['Embarked'].fillna('S')\n",
    "    embarked_dict = {'S': 0, 'C': 1, 'Q': 2}\n",
    "    train['Embarked'] = train['Embarked'].map(embarked_dict)\n",
    "    test['Embarked'] = test['Embarked'].map(embarked_dict)\n",
    "\n",
    "    # Family\n",
    "    train['FamilySize'] = train['SibSp'] + train['Parch'] + 1\n",
    "    train.drop(columns=['SibSp', 'Parch'], inplace=True)\n",
    "    test['FamilySize'] = test['SibSp'] + test['Parch'] + 1\n",
    "    test.drop(columns=['SibSp', 'Parch'], inplace=True)\n",
    "\n",
    "    # IsMaster\n",
    "    # `Master` は 幼い子(男児のみ？) につけられる敬称\n",
    "    train['Title'] = train['Name'].str.extract(r',\\s([a-zA-Z]+)\\.')\n",
    "    train['IsMaster'] = (train['Title'] == 'Master').astype(int)\n",
    "    train.drop(columns=['Name', 'Title'], inplace=True)\n",
    "    test['Title'] = test['Name'].str.extract(r',\\s([a-zA-Z]+)\\.')\n",
    "    test['IsMaster'] = (test['Title'] == 'Master').astype(int)\n",
    "    test.drop(columns=['Name', 'Title'], inplace=True)\n",
    "\n",
    "    return train.drop(columns=['Survived']), train[['Survived']], test\n",
    "\n",
    "\n",
    "X_train, y_train, X_test = preprocess(train, test)\n",
    "\n",
    "X_train.head()"
   ]
  },
  {
   "cell_type": "markdown",
   "metadata": {},
   "source": [
    "# Bulding model"
   ]
  },
  {
   "cell_type": "code",
   "execution_count": 5,
   "metadata": {
    "ExecuteTime": {
     "end_time": "2019-10-05T09:17:29.851001Z",
     "start_time": "2019-10-05T09:17:29.832950Z"
    }
   },
   "outputs": [],
   "source": [
    "def show_coefs_from_grid(grid, train):\n",
    "    best_logreg = grid.best_estimator_.named_steps['logreg']\n",
    "\n",
    "    for col_name, coef in zip(train.columns, best_logreg.coef_[0]):\n",
    "        print(f'{coef:.4f}{col_name} + ', end='')\n",
    "\n",
    "    intercept = best_logreg.intercept_[0]\n",
    "    print(f'{intercept:.4f}')"
   ]
  },
  {
   "cell_type": "code",
   "execution_count": 6,
   "metadata": {
    "ExecuteTime": {
     "end_time": "2019-10-05T09:17:31.296441Z",
     "start_time": "2019-10-05T09:17:29.853883Z"
    },
    "scrolled": true
   },
   "outputs": [
    {
     "name": "stdout",
     "output_type": "stream",
     "text": [
      "{'logreg__C': 0.1} 0.8327721661054994\n",
      "Model: -0.7837Pclass + 1.3874Sex + 0.1348Embarked + -0.4483FamilySize + 0.6381IsMaster + -0.6060\n"
     ]
    }
   ],
   "source": [
    "skf = StratifiedKFold(n_splits=10, random_state=0)\n",
    "\n",
    "pipe = Pipeline([('scaler', StandardScaler()),\n",
    "                 ('logreg', LogisticRegression())])\n",
    "\n",
    "param_grid = {'logreg__C': [10**x for x in range(-3, 3)]}\n",
    "\n",
    "grid = GridSearchCV(estimator=pipe,\n",
    "                    param_grid=param_grid,\n",
    "                    scoring='accuracy',\n",
    "                    cv=skf,\n",
    "                    n_jobs=-1)\n",
    "\n",
    "grid = grid.fit(X_train, y_train)\n",
    "\n",
    "print(grid.best_params_, grid.best_score_)\n",
    "\n",
    "print('Model: ', end='')\n",
    "show_coefs_from_grid(grid, X_train)"
   ]
  },
  {
   "cell_type": "code",
   "execution_count": 7,
   "metadata": {
    "ExecuteTime": {
     "end_time": "2019-10-05T09:17:31.323618Z",
     "start_time": "2019-10-05T09:17:31.299014Z"
    }
   },
   "outputs": [
    {
     "data": {
      "text/plain": [
       "array([0, 1, 0, 0, 1, 0, 1, 0, 1, 0, 0, 0, 1, 0, 1, 1, 0, 0, 1, 1, 0, 1,\n",
       "       1, 0, 1, 0, 1, 0, 0, 0, 0, 0, 0, 0, 0, 0, 1, 1, 0, 0, 0, 0, 0, 1,\n",
       "       1, 0, 0, 0, 1, 1, 0, 0, 1, 1, 0, 0, 0, 0, 0, 1, 0, 0, 0, 1, 1, 1,\n",
       "       1, 0, 0, 1, 1, 0, 1, 0, 1, 0, 0, 1, 0, 1, 1, 0, 0, 0, 0, 0, 1, 1,\n",
       "       1, 1, 1, 0, 1, 0, 0, 0, 1, 0, 1, 0, 1, 0, 0, 0, 1, 0, 0, 0, 0, 0,\n",
       "       0, 1, 1, 1, 1, 0, 0, 1, 0, 1, 1, 0, 1, 0, 0, 1, 0, 1, 0, 0, 0, 0,\n",
       "       0, 0, 0, 0, 0, 0, 1, 0, 0, 1, 0, 0, 0, 0, 0, 0, 0, 0, 1, 0, 0, 1,\n",
       "       0, 0, 1, 1, 0, 1, 1, 1, 1, 0, 0, 1, 0, 0, 1, 1, 0, 0, 0, 0, 0, 1,\n",
       "       1, 0, 1, 1, 0, 0, 1, 0, 1, 0, 1, 0, 0, 0, 0, 0, 1, 0, 1, 0, 1, 1,\n",
       "       0, 1, 1, 1, 0, 1, 0, 0, 1, 0, 1, 0, 0, 0, 0, 1, 0, 0, 1, 0, 1, 0,\n",
       "       1, 0, 1, 0, 1, 1, 0, 1, 0, 0, 0, 1, 0, 0, 0, 0, 0, 0, 1, 1, 1, 1,\n",
       "       0, 0, 1, 0, 1, 0, 1, 1, 1, 0, 0, 0, 0, 0, 0, 0, 1, 0, 0, 0, 1, 1,\n",
       "       0, 0, 0, 0, 1, 0, 0, 0, 1, 1, 0, 1, 0, 0, 0, 0, 1, 1, 1, 1, 1, 0,\n",
       "       0, 0, 0, 0, 0, 1, 0, 0, 0, 0, 1, 0, 0, 0, 0, 0, 0, 0, 1, 1, 0, 1,\n",
       "       0, 1, 0, 0, 0, 1, 1, 1, 0, 0, 0, 0, 0, 0, 0, 0, 1, 0, 1, 0, 0, 0,\n",
       "       1, 0, 0, 1, 0, 0, 0, 0, 0, 1, 0, 0, 0, 1, 1, 1, 0, 1, 0, 1, 1, 0,\n",
       "       0, 0, 0, 0, 1, 0, 0, 1, 0, 1, 1, 0, 1, 0, 0, 1, 1, 0, 0, 1, 0, 0,\n",
       "       1, 1, 1, 0, 0, 0, 0, 0, 1, 1, 0, 1, 0, 0, 0, 0, 0, 1, 1, 0, 0, 1,\n",
       "       0, 1, 0, 0, 1, 0, 1, 0, 0, 0, 0, 0, 1, 1, 1, 1, 1, 0, 1, 0, 0, 1])"
      ]
     },
     "execution_count": 7,
     "metadata": {},
     "output_type": "execute_result"
    }
   ],
   "source": [
    "y_pred = grid.predict(X_test)\n",
    "\n",
    "y_pred"
   ]
  },
  {
   "cell_type": "markdown",
   "metadata": {},
   "source": [
    "# Submission"
   ]
  },
  {
   "cell_type": "code",
   "execution_count": 8,
   "metadata": {
    "ExecuteTime": {
     "end_time": "2019-10-05T09:17:31.348835Z",
     "start_time": "2019-10-05T09:17:31.325381Z"
    }
   },
   "outputs": [],
   "source": [
    "submit_data = pd.read_csv('input/titanic/gender_submission.csv')\n",
    "submit_data['Survived'] = y_pred\n",
    "submit_data.to_csv('submission/hoge.csv', index=False)"
   ]
  },
  {
   "cell_type": "markdown",
   "metadata": {},
   "source": [
    "おわり"
   ]
  }
 ],
 "metadata": {
  "hide_input": false,
  "kernelspec": {
   "display_name": "Python 3",
   "language": "python",
   "name": "python3"
  },
  "language_info": {
   "codemirror_mode": {
    "name": "ipython",
    "version": 3
   },
   "file_extension": ".py",
   "mimetype": "text/x-python",
   "name": "python",
   "nbconvert_exporter": "python",
   "pygments_lexer": "ipython3",
   "version": "3.7.1"
  },
  "toc": {
   "base_numbering": 1,
   "nav_menu": {},
   "number_sections": true,
   "sideBar": true,
   "skip_h1_title": false,
   "title_cell": "Table of Contents",
   "title_sidebar": "Contents",
   "toc_cell": false,
   "toc_position": {},
   "toc_section_display": true,
   "toc_window_display": false
  },
  "varInspector": {
   "cols": {
    "lenName": 16,
    "lenType": 16,
    "lenVar": 40
   },
   "kernels_config": {
    "python": {
     "delete_cmd_postfix": "",
     "delete_cmd_prefix": "del ",
     "library": "var_list.py",
     "varRefreshCmd": "print(var_dic_list())"
    },
    "r": {
     "delete_cmd_postfix": ") ",
     "delete_cmd_prefix": "rm(",
     "library": "var_list.r",
     "varRefreshCmd": "cat(var_dic_list()) "
    }
   },
   "types_to_exclude": [
    "module",
    "function",
    "builtin_function_or_method",
    "instance",
    "_Feature"
   ],
   "window_display": false
  }
 },
 "nbformat": 4,
 "nbformat_minor": 2
}
