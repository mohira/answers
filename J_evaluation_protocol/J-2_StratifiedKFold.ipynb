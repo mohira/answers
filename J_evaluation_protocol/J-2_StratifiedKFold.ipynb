{
 "cells": [
  {
   "cell_type": "markdown",
   "metadata": {},
   "source": [
    "# README\n",
    "- [sklearn.datasets.load_breast_cancer](https://scikit-learn.org/stable/modules/generated/sklearn.datasets.load_breast_cancer.html#sklearn.datasets.load_breast_cancer)\n",
    " を使い、StratifiedKFold を行う\n",
    "- EDAは省略\n"
   ]
  },
  {
   "cell_type": "code",
   "execution_count": 1,
   "metadata": {
    "ExecuteTime": {
     "end_time": "2019-10-03T03:48:09.597476Z",
     "start_time": "2019-10-03T03:48:09.239356Z"
    }
   },
   "outputs": [],
   "source": [
    "import warnings\n",
    "\n",
    "import matplotlib.pyplot as plt\n",
    "import numpy as np\n",
    "import pandas as pd\n",
    "import seaborn as sns\n",
    "\n",
    "warnings.filterwarnings('ignore')\n",
    "\n",
    "%precision 3\n",
    "%matplotlib inline"
   ]
  },
  {
   "cell_type": "markdown",
   "metadata": {},
   "source": [
    "# データの準備"
   ]
  },
  {
   "cell_type": "code",
   "execution_count": 2,
   "metadata": {
    "ExecuteTime": {
     "end_time": "2019-10-03T03:48:09.726529Z",
     "start_time": "2019-10-03T03:48:09.598851Z"
    }
   },
   "outputs": [],
   "source": [
    "from sklearn.datasets import load_breast_cancer\n",
    "from sklearn.model_selection import train_test_split\n",
    "\n",
    "cancer = load_breast_cancer()\n",
    "\n",
    "X = cancer.data\n",
    "y = cancer.target\n",
    "\n",
    "X_trainval, X_test, y_trainval, y_test = train_test_split(X,\n",
    "                                                          y,\n",
    "                                                          train_size=0.80,\n",
    "                                                          random_state=0)"
   ]
  },
  {
   "cell_type": "markdown",
   "metadata": {},
   "source": [
    "# 交差検証\n"
   ]
  },
  {
   "cell_type": "code",
   "execution_count": 3,
   "metadata": {
    "ExecuteTime": {
     "end_time": "2019-10-03T03:48:09.776978Z",
     "start_time": "2019-10-03T03:48:09.727951Z"
    }
   },
   "outputs": [],
   "source": [
    "from sklearn.linear_model import LogisticRegression\n",
    "from sklearn.model_selection import StratifiedKFold, cross_validate\n",
    "from sklearn.neighbors import KNeighborsClassifier\n",
    "from sklearn.tree import DecisionTreeClassifier"
   ]
  },
  {
   "cell_type": "code",
   "execution_count": 44,
   "metadata": {
    "ExecuteTime": {
     "end_time": "2019-10-03T04:06:29.736469Z",
     "start_time": "2019-10-03T04:06:29.714654Z"
    }
   },
   "outputs": [],
   "source": [
    "# StratifiedKFoldの準備\n",
    "skf = StratifiedKFold(n_splits=7, shuffle=True, random_state=0)"
   ]
  },
  {
   "cell_type": "markdown",
   "metadata": {},
   "source": [
    "## 単純な交差検証その1: `cross_validate()`\n"
   ]
  },
  {
   "cell_type": "code",
   "execution_count": 45,
   "metadata": {
    "ExecuteTime": {
     "end_time": "2019-10-03T04:06:30.124715Z",
     "start_time": "2019-10-03T04:06:30.069966Z"
    }
   },
   "outputs": [
    {
     "data": {
      "text/plain": [
       "{'fit_time': array([0.003, 0.003, 0.003, 0.004, 0.004, 0.004, 0.003]),\n",
       " 'score_time': array([0.001, 0.001, 0.001, 0.001, 0.001, 0.001, 0.001]),\n",
       " 'test_accuracy': array([0.894, 0.939, 0.924, 0.954, 0.969, 0.984, 0.969]),\n",
       " 'test_recall': array([0.976, 0.929, 0.976, 0.976, 0.976, 0.976, 1.   ])}"
      ]
     },
     "execution_count": 45,
     "metadata": {},
     "output_type": "execute_result"
    }
   ],
   "source": [
    "cv_logreg = cross_validate(LogisticRegression(),\n",
    "                           X_trainval,\n",
    "                           y_trainval,\n",
    "                           cv=skf,  # int指定も可能。その場合StratifiedKFoldが設定される\n",
    "                           scoring=['accuracy', 'recall'])\n",
    "\n",
    "cv_logreg"
   ]
  },
  {
   "cell_type": "code",
   "execution_count": 46,
   "metadata": {
    "ExecuteTime": {
     "end_time": "2019-10-03T04:06:30.307083Z",
     "start_time": "2019-10-03T04:06:30.235849Z"
    }
   },
   "outputs": [
    {
     "data": {
      "text/plain": [
       "{'fit_time': array([0.006, 0.005, 0.005, 0.004, 0.005, 0.005, 0.005]),\n",
       " 'score_time': array([0.001, 0.001, 0.001, 0.001, 0.001, 0.001, 0.001]),\n",
       " 'test_accuracy': array([0.909, 0.924, 0.909, 0.908, 0.922, 0.969, 0.922]),\n",
       " 'test_recall': array([0.976, 0.905, 0.905, 0.927, 0.927, 0.951, 0.927])}"
      ]
     },
     "execution_count": 46,
     "metadata": {},
     "output_type": "execute_result"
    }
   ],
   "source": [
    "cv_dt = cross_validate(DecisionTreeClassifier(),\n",
    "                       X_trainval,\n",
    "                       y_trainval,\n",
    "                       cv=skf,  # int指定も可能。その場合StratifiedKFoldが設定される\n",
    "                       scoring=['accuracy', 'recall'])\n",
    "\n",
    "cv_dt"
   ]
  },
  {
   "cell_type": "code",
   "execution_count": 47,
   "metadata": {
    "ExecuteTime": {
     "end_time": "2019-10-03T04:06:30.438114Z",
     "start_time": "2019-10-03T04:06:30.373447Z"
    }
   },
   "outputs": [
    {
     "data": {
      "text/plain": [
       "{'fit_time': array([0., 0., 0., 0., 0., 0., 0.]),\n",
       " 'score_time': array([0.006, 0.005, 0.006, 0.006, 0.005, 0.005, 0.005]),\n",
       " 'test_accuracy': array([0.894, 0.939, 0.939, 0.938, 0.938, 0.922, 0.906]),\n",
       " 'test_recall': array([0.976, 0.952, 0.976, 0.951, 0.976, 0.927, 0.927])}"
      ]
     },
     "execution_count": 47,
     "metadata": {},
     "output_type": "execute_result"
    }
   ],
   "source": [
    "cv_knn = cross_validate(KNeighborsClassifier(),\n",
    "                        X_trainval,\n",
    "                        y_trainval,\n",
    "                        cv=skf,  # int指定も可能。その場合StratifiedKFoldが設定される\n",
    "                        scoring=['accuracy', 'recall'])\n",
    "\n",
    "cv_knn"
   ]
  },
  {
   "cell_type": "markdown",
   "metadata": {},
   "source": [
    "## 単純な交差検証その2(KFoldを利用して自作)"
   ]
  },
  {
   "cell_type": "code",
   "execution_count": 48,
   "metadata": {
    "ExecuteTime": {
     "end_time": "2019-10-03T04:06:30.692858Z",
     "start_time": "2019-10-03T04:06:30.644418Z"
    }
   },
   "outputs": [
    {
     "name": "stdout",
     "output_type": "stream",
     "text": [
      "[0.8939393939393939, 0.9393939393939394, 0.9242424242424242, 0.9538461538461539, 0.96875, 0.984375, 0.96875]\n",
      "Mean: 0.948 Std: 0.029\n"
     ]
    }
   ],
   "source": [
    "valid_scores = []\n",
    "\n",
    "for train_index, valid_index in skf.split(X_trainval, y_trainval):\n",
    "    X_train, X_valid = X_trainval[train_index], X_trainval[valid_index]\n",
    "    y_train, y_valid = y_trainval[train_index], y_trainval[valid_index]\n",
    "\n",
    "    clf = LogisticRegression()\n",
    "    clf.fit(X_train, y_train)\n",
    "\n",
    "    acc_valid = clf.score(X_valid, y_valid)\n",
    "    valid_scores.append(acc_valid)\n",
    "\n",
    "\n",
    "print(valid_scores)\n",
    "print(f'Mean: {np.mean(valid_scores):.3f} Std: {np.std(valid_scores):.3f}')"
   ]
  },
  {
   "cell_type": "markdown",
   "metadata": {
    "ExecuteTime": {
     "end_time": "2019-10-03T03:35:26.432491Z",
     "start_time": "2019-10-03T03:35:26.387762Z"
    }
   },
   "source": [
    "## パラメータチューニングあり交差検証その1(自作)"
   ]
  },
  {
   "cell_type": "code",
   "execution_count": 49,
   "metadata": {
    "ExecuteTime": {
     "end_time": "2019-10-03T04:06:32.693308Z",
     "start_time": "2019-10-03T04:06:30.915803Z"
    }
   },
   "outputs": [
    {
     "name": "stdout",
     "output_type": "stream",
     "text": [
      "Best params: {'C': 1, 'gamma': 0.001}\n",
      "Best acc: 0.916\n"
     ]
    }
   ],
   "source": [
    "from sklearn.model_selection import ParameterGrid\n",
    "from sklearn.svm import SVC\n",
    "\n",
    "param_grid = {\n",
    "    'C': [0.001, 0.01, 0.1, 1, 10, 100],\n",
    "    'gamma': [0.001, 0.01, 0.1, 1, 10, 100],\n",
    "}\n",
    "\n",
    "best_params = {}\n",
    "best_mean_acc = 0\n",
    "\n",
    "all_acc = np.array([], dtype=np.float64)\n",
    "all_std = np.array([], dtype=np.float64)\n",
    "\n",
    "for params in ParameterGrid(param_grid):\n",
    "    valid_scores = []\n",
    "\n",
    "    for train_index, valid_index in skf.split(X_trainval, y_trainval):\n",
    "        X_train, X_valid = X_trainval[train_index], X_trainval[valid_index]\n",
    "        y_train, y_valid = y_trainval[train_index], y_trainval[valid_index]\n",
    "\n",
    "        # `**` をつけると辞書でそのまま渡せる\n",
    "        clf = SVC(**params)\n",
    "        clf.fit(X_train, y_train)\n",
    "\n",
    "        acc_valid = clf.score(X_valid, y_valid)\n",
    "        valid_scores.append(acc_valid)\n",
    "\n",
    "    mean_acc = np.mean(valid_scores)\n",
    "    mean_std = np.std(valid_scores)\n",
    "    all_acc = np.append(all_acc, mean_acc)\n",
    "    all_std = np.append(all_std, mean_std)\n",
    "\n",
    "    if mean_acc > best_mean_acc:\n",
    "        best_mean_acc = mean_acc\n",
    "        best_params = params\n",
    "\n",
    "print(f'Best params: {best_params}')\n",
    "print(f'Best acc: {best_mean_acc:.3f}')"
   ]
  },
  {
   "cell_type": "code",
   "execution_count": 50,
   "metadata": {
    "ExecuteTime": {
     "end_time": "2019-10-03T04:06:32.793782Z",
     "start_time": "2019-10-03T04:06:32.763970Z"
    }
   },
   "outputs": [
    {
     "name": "stdout",
     "output_type": "stream",
     "text": [
      "Test acc: 0.921\n"
     ]
    }
   ],
   "source": [
    "# 最も良かったパラメータかつ、すべての学習データを使って学習\n",
    "retrained_model = SVC(**best_params)\n",
    "retrained_model.fit(X_trainval, y_trainval)\n",
    "\n",
    "final_score = retrained_model.score(X_test, y_test)\n",
    "print(f'Test acc: {final_score:.3f}')"
   ]
  },
  {
   "cell_type": "markdown",
   "metadata": {
    "ExecuteTime": {
     "end_time": "2019-10-03T03:29:43.534928Z",
     "start_time": "2019-10-03T03:29:43.495597Z"
    }
   },
   "source": [
    "## パラメータチューニングあり交差検証その2(`GridSearchCV`)"
   ]
  },
  {
   "cell_type": "code",
   "execution_count": 51,
   "metadata": {
    "ExecuteTime": {
     "end_time": "2019-10-03T04:06:34.241716Z",
     "start_time": "2019-10-03T04:06:32.859039Z"
    }
   },
   "outputs": [
    {
     "name": "stdout",
     "output_type": "stream",
     "text": [
      "Best params: {'C': 1, 'gamma': 0.001}\n",
      "Best acc: 0.916\n"
     ]
    }
   ],
   "source": [
    "from sklearn.model_selection import GridSearchCV\n",
    "\n",
    "param_grid = {\n",
    "    'C': [0.001, 0.01, 0.1, 1, 10, 100],\n",
    "    'gamma': [0.001, 0.01, 0.1, 1, 10, 100],\n",
    "}\n",
    "\n",
    "gs = GridSearchCV(SVC(),\n",
    "                  param_grid,\n",
    "                  cv=skf,\n",
    "                  scoring='accuracy',\n",
    "                  n_jobs=-1  # 計算にすべてのコアを使う\n",
    "                  )\n",
    "\n",
    "# 交差検証および、チャンピオンパラメータでの再学習までやってくれる\n",
    "gs.fit(X_trainval, y_trainval)\n",
    "\n",
    "print(f'Best params: {gs.best_params_}')\n",
    "print(f'Best acc: {gs.best_score_:.3f}')"
   ]
  },
  {
   "cell_type": "code",
   "execution_count": 52,
   "metadata": {
    "ExecuteTime": {
     "end_time": "2019-10-03T04:06:34.332642Z",
     "start_time": "2019-10-03T04:06:34.311780Z"
    }
   },
   "outputs": [
    {
     "name": "stdout",
     "output_type": "stream",
     "text": [
      "Test acc: 0.921\n"
     ]
    }
   ],
   "source": [
    "final_score = gs.score(X_test, y_test)\n",
    "print(f'Test acc: {final_score:.3f}')"
   ]
  },
  {
   "cell_type": "code",
   "execution_count": 53,
   "metadata": {
    "ExecuteTime": {
     "end_time": "2019-10-03T04:06:34.424413Z",
     "start_time": "2019-10-03T04:06:34.397156Z"
    }
   },
   "outputs": [
    {
     "data": {
      "text/plain": [
       "{'mean_fit_time': array([0.008, 0.007, 0.007, 0.008, 0.008, 0.01 , 0.014, 0.011, 0.01 ,\n",
       "        0.009, 0.01 , 0.009, 0.008, 0.011, 0.01 , 0.01 , 0.009, 0.01 ,\n",
       "        0.009, 0.011, 0.012, 0.009, 0.009, 0.011, 0.01 , 0.012, 0.012,\n",
       "        0.01 , 0.01 , 0.011, 0.01 , 0.008, 0.009, 0.008, 0.007, 0.008]),\n",
       " 'std_fit_time': array([0.   , 0.001, 0.001, 0.001, 0.001, 0.002, 0.01 , 0.002, 0.001,\n",
       "        0.001, 0.002, 0.   , 0.001, 0.002, 0.001, 0.001, 0.   , 0.002,\n",
       "        0.   , 0.001, 0.003, 0.001, 0.001, 0.002, 0.001, 0.   , 0.001,\n",
       "        0.001, 0.001, 0.001, 0.002, 0.   , 0.003, 0.002, 0.   , 0.001]),\n",
       " 'mean_score_time': array([0.002, 0.001, 0.001, 0.001, 0.001, 0.001, 0.001, 0.005, 0.002,\n",
       "        0.001, 0.001, 0.001, 0.002, 0.002, 0.001, 0.001, 0.001, 0.002,\n",
       "        0.001, 0.002, 0.002, 0.001, 0.002, 0.001, 0.001, 0.002, 0.001,\n",
       "        0.001, 0.001, 0.001, 0.001, 0.001, 0.001, 0.001, 0.001, 0.001]),\n",
       " 'std_score_time': array([6.364e-04, 8.772e-05, 1.022e-04, 4.028e-04, 1.682e-04, 4.323e-04,\n",
       "        2.650e-04, 3.589e-03, 1.176e-03, 1.496e-04, 1.134e-04, 6.734e-05,\n",
       "        3.020e-04, 4.426e-05, 1.233e-04, 3.399e-05, 8.857e-05, 1.181e-03,\n",
       "        5.986e-05, 1.981e-04, 1.642e-04, 7.191e-05, 4.153e-04, 8.914e-05,\n",
       "        4.418e-05, 2.820e-04, 1.273e-04, 2.353e-04, 2.972e-05, 3.856e-05,\n",
       "        1.753e-04, 1.522e-04, 1.590e-04, 1.488e-04, 5.639e-05, 1.984e-04]),\n",
       " 'param_C': masked_array(data=[0.001, 0.001, 0.001, 0.001, 0.001, 0.001, 0.01, 0.01,\n",
       "                    0.01, 0.01, 0.01, 0.01, 0.1, 0.1, 0.1, 0.1, 0.1, 0.1,\n",
       "                    1, 1, 1, 1, 1, 1, 10, 10, 10, 10, 10, 10, 100, 100,\n",
       "                    100, 100, 100, 100],\n",
       "              mask=[False, False, False, False, False, False, False, False,\n",
       "                    False, False, False, False, False, False, False, False,\n",
       "                    False, False, False, False, False, False, False, False,\n",
       "                    False, False, False, False, False, False, False, False,\n",
       "                    False, False, False, False],\n",
       "        fill_value='?',\n",
       "             dtype=object),\n",
       " 'param_gamma': masked_array(data=[0.001, 0.01, 0.1, 1, 10, 100, 0.001, 0.01, 0.1, 1, 10,\n",
       "                    100, 0.001, 0.01, 0.1, 1, 10, 100, 0.001, 0.01, 0.1, 1,\n",
       "                    10, 100, 0.001, 0.01, 0.1, 1, 10, 100, 0.001, 0.01,\n",
       "                    0.1, 1, 10, 100],\n",
       "              mask=[False, False, False, False, False, False, False, False,\n",
       "                    False, False, False, False, False, False, False, False,\n",
       "                    False, False, False, False, False, False, False, False,\n",
       "                    False, False, False, False, False, False, False, False,\n",
       "                    False, False, False, False],\n",
       "        fill_value='?',\n",
       "             dtype=object),\n",
       " 'params': [{'C': 0.001, 'gamma': 0.001},\n",
       "  {'C': 0.001, 'gamma': 0.010},\n",
       "  {'C': 0.001, 'gamma': 0.100},\n",
       "  {'C': 0.001, 'gamma': 1},\n",
       "  {'C': 0.001, 'gamma': 10},\n",
       "  {'C': 0.001, 'gamma': 100},\n",
       "  {'C': 0.010, 'gamma': 0.001},\n",
       "  {'C': 0.010, 'gamma': 0.010},\n",
       "  {'C': 0.010, 'gamma': 0.100},\n",
       "  {'C': 0.010, 'gamma': 1},\n",
       "  {'C': 0.010, 'gamma': 10},\n",
       "  {'C': 0.010, 'gamma': 100},\n",
       "  {'C': 0.100, 'gamma': 0.001},\n",
       "  {'C': 0.100, 'gamma': 0.010},\n",
       "  {'C': 0.100, 'gamma': 0.100},\n",
       "  {'C': 0.100, 'gamma': 1},\n",
       "  {'C': 0.100, 'gamma': 10},\n",
       "  {'C': 0.100, 'gamma': 100},\n",
       "  {'C': 1, 'gamma': 0.001},\n",
       "  {'C': 1, 'gamma': 0.010},\n",
       "  {'C': 1, 'gamma': 0.100},\n",
       "  {'C': 1, 'gamma': 1},\n",
       "  {'C': 1, 'gamma': 10},\n",
       "  {'C': 1, 'gamma': 100},\n",
       "  {'C': 10, 'gamma': 0.001},\n",
       "  {'C': 10, 'gamma': 0.010},\n",
       "  {'C': 10, 'gamma': 0.100},\n",
       "  {'C': 10, 'gamma': 1},\n",
       "  {'C': 10, 'gamma': 10},\n",
       "  {'C': 10, 'gamma': 100},\n",
       "  {'C': 100, 'gamma': 0.001},\n",
       "  {'C': 100, 'gamma': 0.010},\n",
       "  {'C': 100, 'gamma': 0.100},\n",
       "  {'C': 100, 'gamma': 1},\n",
       "  {'C': 100, 'gamma': 10},\n",
       "  {'C': 100, 'gamma': 100}],\n",
       " 'split0_test_score': array([0.636, 0.636, 0.636, 0.636, 0.636, 0.636, 0.636, 0.636, 0.636,\n",
       "        0.636, 0.636, 0.636, 0.636, 0.636, 0.636, 0.636, 0.636, 0.636,\n",
       "        0.894, 0.636, 0.636, 0.636, 0.636, 0.636, 0.879, 0.636, 0.636,\n",
       "        0.636, 0.636, 0.636, 0.879, 0.636, 0.636, 0.636, 0.636, 0.636]),\n",
       " 'split1_test_score': array([0.636, 0.636, 0.636, 0.636, 0.636, 0.636, 0.636, 0.636, 0.636,\n",
       "        0.636, 0.636, 0.636, 0.636, 0.636, 0.636, 0.636, 0.636, 0.636,\n",
       "        0.955, 0.636, 0.636, 0.636, 0.636, 0.636, 0.955, 0.636, 0.636,\n",
       "        0.636, 0.636, 0.636, 0.955, 0.636, 0.636, 0.636, 0.636, 0.636]),\n",
       " 'split2_test_score': array([0.636, 0.636, 0.636, 0.636, 0.636, 0.636, 0.636, 0.636, 0.636,\n",
       "        0.636, 0.636, 0.636, 0.636, 0.636, 0.636, 0.636, 0.636, 0.636,\n",
       "        0.879, 0.636, 0.636, 0.636, 0.636, 0.636, 0.879, 0.636, 0.636,\n",
       "        0.636, 0.636, 0.636, 0.879, 0.636, 0.636, 0.636, 0.636, 0.636]),\n",
       " 'split3_test_score': array([0.631, 0.631, 0.631, 0.631, 0.631, 0.631, 0.631, 0.631, 0.631,\n",
       "        0.631, 0.631, 0.631, 0.631, 0.631, 0.631, 0.631, 0.631, 0.631,\n",
       "        0.954, 0.631, 0.631, 0.631, 0.631, 0.631, 0.938, 0.631, 0.631,\n",
       "        0.631, 0.631, 0.631, 0.938, 0.631, 0.631, 0.631, 0.631, 0.631]),\n",
       " 'split4_test_score': array([0.641, 0.641, 0.641, 0.641, 0.641, 0.641, 0.641, 0.641, 0.641,\n",
       "        0.641, 0.641, 0.641, 0.641, 0.641, 0.641, 0.641, 0.641, 0.641,\n",
       "        0.922, 0.625, 0.641, 0.641, 0.641, 0.641, 0.906, 0.641, 0.641,\n",
       "        0.641, 0.641, 0.641, 0.906, 0.641, 0.641, 0.641, 0.641, 0.641]),\n",
       " 'split5_test_score': array([0.641, 0.641, 0.641, 0.641, 0.641, 0.641, 0.641, 0.641, 0.641,\n",
       "        0.641, 0.641, 0.641, 0.641, 0.641, 0.641, 0.641, 0.641, 0.641,\n",
       "        0.875, 0.641, 0.641, 0.641, 0.641, 0.641, 0.875, 0.656, 0.641,\n",
       "        0.641, 0.641, 0.641, 0.875, 0.656, 0.641, 0.641, 0.641, 0.641]),\n",
       " 'split6_test_score': array([0.641, 0.641, 0.641, 0.641, 0.641, 0.641, 0.641, 0.641, 0.641,\n",
       "        0.641, 0.641, 0.641, 0.641, 0.641, 0.641, 0.641, 0.641, 0.641,\n",
       "        0.938, 0.641, 0.641, 0.641, 0.641, 0.641, 0.906, 0.641, 0.641,\n",
       "        0.641, 0.641, 0.641, 0.906, 0.641, 0.641, 0.641, 0.641, 0.641]),\n",
       " 'mean_test_score': array([0.637, 0.637, 0.637, 0.637, 0.637, 0.637, 0.637, 0.637, 0.637,\n",
       "        0.637, 0.637, 0.637, 0.637, 0.637, 0.637, 0.637, 0.637, 0.637,\n",
       "        0.916, 0.635, 0.637, 0.637, 0.637, 0.637, 0.905, 0.64 , 0.637,\n",
       "        0.637, 0.637, 0.637, 0.905, 0.64 , 0.637, 0.637, 0.637, 0.637]),\n",
       " 'std_test_score': array([0.003, 0.003, 0.003, 0.003, 0.003, 0.003, 0.003, 0.003, 0.003,\n",
       "        0.003, 0.003, 0.003, 0.003, 0.003, 0.003, 0.003, 0.003, 0.003,\n",
       "        0.032, 0.005, 0.003, 0.003, 0.003, 0.003, 0.029, 0.007, 0.003,\n",
       "        0.003, 0.003, 0.003, 0.029, 0.007, 0.003, 0.003, 0.003, 0.003]),\n",
       " 'rank_test_score': array([ 6,  6,  6,  6,  6,  6,  6,  6,  6,  6,  6,  6,  6,  6,  6,  6,  6,\n",
       "         6,  1, 36,  6,  6,  6,  6,  2,  4,  6,  6,  6,  6,  2,  4,  6,  6,\n",
       "         6,  6], dtype=int32)}"
      ]
     },
     "execution_count": 53,
     "metadata": {},
     "output_type": "execute_result"
    }
   ],
   "source": [
    "# 詳細な結果\n",
    "gs.cv_results_"
   ]
  },
  {
   "cell_type": "markdown",
   "metadata": {},
   "source": [
    "おわり"
   ]
  }
 ],
 "metadata": {
  "hide_input": false,
  "kernelspec": {
   "display_name": "Python 3",
   "language": "python",
   "name": "python3"
  },
  "language_info": {
   "codemirror_mode": {
    "name": "ipython",
    "version": 3
   },
   "file_extension": ".py",
   "mimetype": "text/x-python",
   "name": "python",
   "nbconvert_exporter": "python",
   "pygments_lexer": "ipython3",
   "version": "3.7.1"
  },
  "toc": {
   "base_numbering": 1,
   "nav_menu": {},
   "number_sections": true,
   "sideBar": true,
   "skip_h1_title": false,
   "title_cell": "Table of Contents",
   "title_sidebar": "Contents",
   "toc_cell": false,
   "toc_position": {},
   "toc_section_display": true,
   "toc_window_display": false
  },
  "varInspector": {
   "cols": {
    "lenName": 16,
    "lenType": 16,
    "lenVar": 40
   },
   "kernels_config": {
    "python": {
     "delete_cmd_postfix": "",
     "delete_cmd_prefix": "del ",
     "library": "var_list.py",
     "varRefreshCmd": "print(var_dic_list())"
    },
    "r": {
     "delete_cmd_postfix": ") ",
     "delete_cmd_prefix": "rm(",
     "library": "var_list.r",
     "varRefreshCmd": "cat(var_dic_list()) "
    }
   },
   "types_to_exclude": [
    "module",
    "function",
    "builtin_function_or_method",
    "instance",
    "_Feature"
   ],
   "window_display": false
  },
  "pycharm": {
   "stem_cell": {
    "cell_type": "raw",
    "source": [],
    "metadata": {
     "collapsed": false
    }
   }
  }
 },
 "nbformat": 4,
 "nbformat_minor": 2
}