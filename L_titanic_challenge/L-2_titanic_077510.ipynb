{
 "cells": [
  {
   "cell_type": "markdown",
   "metadata": {},
   "source": [
    "# README\n",
    "## まとめ\n",
    "- PublicScore: 0.7751"
   ]
  },
  {
   "cell_type": "code",
   "execution_count": 1,
   "metadata": {
    "ExecuteTime": {
     "end_time": "2019-10-05T09:21:16.187541Z",
     "start_time": "2019-10-05T09:21:15.809074Z"
    }
   },
   "outputs": [],
   "source": [
    "import warnings\n",
    "\n",
    "import matplotlib.pyplot as plt\n",
    "import numpy as np\n",
    "import pandas as pd\n",
    "import seaborn as sns\n",
    "\n",
    "warnings.filterwarnings('ignore')\n",
    "\n",
    "%matplotlib inline"
   ]
  },
  {
   "cell_type": "code",
   "execution_count": 2,
   "metadata": {
    "ExecuteTime": {
     "end_time": "2019-10-05T09:21:16.210671Z",
     "start_time": "2019-10-05T09:21:16.188772Z"
    }
   },
   "outputs": [],
   "source": [
    "train = pd.read_csv('input/titanic/train.csv', usecols=['Survived', 'Pclass', 'Sex', 'SibSp', 'Parch', 'Fare', 'Embarked'])\n",
    "test = pd.read_csv('input/titanic/test.csv', usecols=['Pclass', 'Sex', 'SibSp', 'Parch', 'Fare', 'Embarked'])"
   ]
  },
  {
   "cell_type": "markdown",
   "metadata": {},
   "source": [
    "# 前処理"
   ]
  },
  {
   "cell_type": "code",
   "execution_count": 3,
   "metadata": {
    "ExecuteTime": {
     "end_time": "2019-10-05T09:21:16.243262Z",
     "start_time": "2019-10-05T09:21:16.211889Z"
    },
    "code_folding": []
   },
   "outputs": [
    {
     "data": {
      "text/html": [
       "<div>\n",
       "<style scoped>\n",
       "    .dataframe tbody tr th:only-of-type {\n",
       "        vertical-align: middle;\n",
       "    }\n",
       "\n",
       "    .dataframe tbody tr th {\n",
       "        vertical-align: top;\n",
       "    }\n",
       "\n",
       "    .dataframe thead th {\n",
       "        text-align: right;\n",
       "    }\n",
       "</style>\n",
       "<table border=\"1\" class=\"dataframe\">\n",
       "  <thead>\n",
       "    <tr style=\"text-align: right;\">\n",
       "      <th></th>\n",
       "      <th>Pclass</th>\n",
       "      <th>Sex</th>\n",
       "      <th>SibSp</th>\n",
       "      <th>Parch</th>\n",
       "      <th>Fare</th>\n",
       "      <th>Embarked</th>\n",
       "    </tr>\n",
       "  </thead>\n",
       "  <tbody>\n",
       "    <tr>\n",
       "      <td>0</td>\n",
       "      <td>3</td>\n",
       "      <td>1</td>\n",
       "      <td>1</td>\n",
       "      <td>0</td>\n",
       "      <td>7.2500</td>\n",
       "      <td>0</td>\n",
       "    </tr>\n",
       "    <tr>\n",
       "      <td>1</td>\n",
       "      <td>1</td>\n",
       "      <td>0</td>\n",
       "      <td>1</td>\n",
       "      <td>0</td>\n",
       "      <td>71.2833</td>\n",
       "      <td>1</td>\n",
       "    </tr>\n",
       "    <tr>\n",
       "      <td>2</td>\n",
       "      <td>3</td>\n",
       "      <td>0</td>\n",
       "      <td>0</td>\n",
       "      <td>0</td>\n",
       "      <td>7.9250</td>\n",
       "      <td>0</td>\n",
       "    </tr>\n",
       "    <tr>\n",
       "      <td>3</td>\n",
       "      <td>1</td>\n",
       "      <td>0</td>\n",
       "      <td>1</td>\n",
       "      <td>0</td>\n",
       "      <td>53.1000</td>\n",
       "      <td>0</td>\n",
       "    </tr>\n",
       "    <tr>\n",
       "      <td>4</td>\n",
       "      <td>3</td>\n",
       "      <td>1</td>\n",
       "      <td>0</td>\n",
       "      <td>0</td>\n",
       "      <td>8.0500</td>\n",
       "      <td>0</td>\n",
       "    </tr>\n",
       "  </tbody>\n",
       "</table>\n",
       "</div>"
      ],
      "text/plain": [
       "   Pclass  Sex  SibSp  Parch     Fare  Embarked\n",
       "0       3    1      1      0   7.2500         0\n",
       "1       1    0      1      0  71.2833         1\n",
       "2       3    0      0      0   7.9250         0\n",
       "3       1    0      1      0  53.1000         0\n",
       "4       3    1      0      0   8.0500         0"
      ]
     },
     "execution_count": 3,
     "metadata": {},
     "output_type": "execute_result"
    }
   ],
   "source": [
    "X_train = train.drop(columns=['Survived']).copy()\n",
    "y_train = train['Survived']\n",
    "\n",
    "X_test = test.copy()\n",
    "\n",
    "# Sex\n",
    "# 文字列を数値に変換(LabelEncodingと呼ぶ)\n",
    "sex_dict = {'male': 1, 'female': 0}\n",
    "X_train['Sex'] = X_train['Sex'].map(sex_dict)\n",
    "X_test['Sex'] = X_test['Sex'].map(sex_dict)\n",
    "\n",
    "# Embarked\n",
    "# 欠損の件数が少なくカーディナリティも低いので最頻値で埋めておく\n",
    "# 文字列を数値に変換(LabelEncoding)\n",
    "X_train['Embarked'] = X_train['Embarked'].fillna('S')\n",
    "embarked_dict = {'S': 0, 'C': 1, 'Q': 2}\n",
    "\n",
    "X_train['Embarked'] = X_train['Embarked'].map(embarked_dict)\n",
    "X_test['Embarked'] = X_test['Embarked'].map(embarked_dict)\n",
    "\n",
    "# Fare\n",
    "# 欠損が1件なので中央値で埋める\n",
    "X_test['Fare'] = X_test['Fare'].fillna(X_test['Fare'].median())\n",
    "\n",
    "# 確認\n",
    "X_train.head()"
   ]
  },
  {
   "cell_type": "markdown",
   "metadata": {},
   "source": [
    "\n",
    "\n",
    "# GridSearch & Pipeline\n",
    "- 標準化 → GridSearch"
   ]
  },
  {
   "cell_type": "code",
   "execution_count": 4,
   "metadata": {
    "ExecuteTime": {
     "end_time": "2019-10-05T09:21:17.915693Z",
     "start_time": "2019-10-05T09:21:16.244356Z"
    }
   },
   "outputs": [
    {
     "name": "stdout",
     "output_type": "stream",
     "text": [
      "{'logreg__C': 1} 0.7934904601571269\n"
     ]
    }
   ],
   "source": [
    "from sklearn.linear_model import LogisticRegression\n",
    "from sklearn.model_selection import GridSearchCV, StratifiedKFold\n",
    "from sklearn.pipeline import Pipeline\n",
    "from sklearn.preprocessing import StandardScaler\n",
    "\n",
    "skf = StratifiedKFold(n_splits=10, random_state=42)\n",
    "\n",
    "pipe = Pipeline([('scaler', StandardScaler()),\n",
    "                 ('logreg', LogisticRegression())])\n",
    "\n",
    "param_grid = {'logreg__C': [10**x for x in range(-3, 5)]}\n",
    "\n",
    "grid = GridSearchCV(estimator=pipe,\n",
    "                    param_grid=param_grid,\n",
    "                    scoring='accuracy',\n",
    "                    cv=skf,\n",
    "                    n_jobs=-1)\n",
    "\n",
    "grid.fit(X_train, y_train)\n",
    "\n",
    "print(grid.best_params_, grid.best_score_)"
   ]
  },
  {
   "cell_type": "code",
   "execution_count": 5,
   "metadata": {
    "ExecuteTime": {
     "end_time": "2019-10-05T09:21:17.940968Z",
     "start_time": "2019-10-05T09:21:17.917217Z"
    }
   },
   "outputs": [
    {
     "name": "stdout",
     "output_type": "stream",
     "text": [
      "-0.7151Pclass + -1.2848Sex + -0.2573SibSp + -0.0525Parch + 0.1430Fare + 0.1461Embarked + -0.6251\n"
     ]
    }
   ],
   "source": [
    "# 回帰係数もみておく\n",
    "best_logreg = grid.best_estimator_.named_steps['logreg']\n",
    "\n",
    "for c, i in zip(X_train.columns, best_logreg.coef_[0]):\n",
    "    print(f'{i:.4f}{c} + ', end='')\n",
    "\n",
    "print(f'{best_logreg.intercept_[0]:.4f}')"
   ]
  },
  {
   "cell_type": "markdown",
   "metadata": {
    "ExecuteTime": {
     "end_time": "2019-10-01T14:59:55.738545Z",
     "start_time": "2019-10-01T14:59:54.467Z"
    }
   },
   "source": [
    "# SubmissonFile の作成\n"
   ]
  },
  {
   "cell_type": "code",
   "execution_count": 6,
   "metadata": {
    "ExecuteTime": {
     "end_time": "2019-10-05T09:21:17.969537Z",
     "start_time": "2019-10-05T09:21:17.943735Z"
    }
   },
   "outputs": [],
   "source": [
    "submit_data = pd.read_csv('input/titanic/gender_submission.csv')\n",
    "submit_data['Survived'] = grid.predict(X_test)\n",
    "\n",
    "# かなり雑だが、使用したカラムをファイル名につけておく\n",
    "suffix = '_'.join(X_train.columns)\n",
    "submit_data.to_csv(f'submission/logreg_標準化_{suffix}.csv', index=False)"
   ]
  },
  {
   "cell_type": "markdown",
   "metadata": {},
   "source": [
    "# 木モデルを使って重要度を見る"
   ]
  },
  {
   "cell_type": "code",
   "execution_count": 7,
   "metadata": {
    "ExecuteTime": {
     "end_time": "2019-10-05T09:21:17.996912Z",
     "start_time": "2019-10-05T09:21:17.974609Z"
    }
   },
   "outputs": [],
   "source": [
    "def visualize_feature_importance(model, X_train):\n",
    "    # barplotに持ち込むためのDFを生成\n",
    "    df = pd.DataFrame()\n",
    "    df['feature_name'] = X_train.columns\n",
    "    df['feature_importance'] = model.feature_importances_\n",
    "\n",
    "    # 降順のほうが見やすいのでソート\n",
    "    df.sort_values(by='feature_importance', ascending=False, inplace=True)\n",
    "\n",
    "    # 重要度0はノイズに思えるので除外している\n",
    "    df = df[df['feature_importance'] > 0]\n",
    "\n",
    "    sns.barplot(x='feature_importance',\n",
    "                y='feature_name',\n",
    "                data=df)\n",
    "\n",
    "    plt.xlim(0, 1.0)"
   ]
  },
  {
   "cell_type": "code",
   "execution_count": 8,
   "metadata": {
    "ExecuteTime": {
     "end_time": "2019-10-05T09:21:18.640273Z",
     "start_time": "2019-10-05T09:21:17.998289Z"
    }
   },
   "outputs": [
    {
     "name": "stdout",
     "output_type": "stream",
     "text": [
      "{'max_depth': 8} 0.8148148148148148\n"
     ]
    },
    {
     "data": {
      "image/png": "[encoded data removed]",
      "text/plain": [
       "<Figure size 432x288 with 1 Axes>"
      ]
     },
     "metadata": {
      "needs_background": "light"
     },
     "output_type": "display_data"
    }
   ],
   "source": [
    "from sklearn.ensemble import RandomForestClassifier\n",
    "\n",
    "param_grid_rf = {'max_depth': [x for x in range(2, 10)]}\n",
    "\n",
    "grid_rf = GridSearchCV(estimator=RandomForestClassifier(),\n",
    "                    param_grid=param_grid_rf,\n",
    "                    scoring='accuracy',\n",
    "                    cv=skf,\n",
    "                    n_jobs=-1)\n",
    "\n",
    "grid_rf.fit(X_train, y_train)\n",
    "\n",
    "print(grid_rf.best_params_, grid_rf.best_score_)\n",
    "\n",
    "visualize_feature_importance(grid_rf.best_estimator_, X_train)"
   ]
  },
  {
   "cell_type": "markdown",
   "metadata": {},
   "source": [
    "おわり"
   ]
  }
 ],
 "metadata": {
  "hide_input": false,
  "kernelspec": {
   "display_name": "Python 3",
   "language": "python",
   "name": "python3"
  },
  "language_info": {
   "codemirror_mode": {
    "name": "ipython",
    "version": 3
   },
   "file_extension": ".py",
   "mimetype": "text/x-python",
   "name": "python",
   "nbconvert_exporter": "python",
   "pygments_lexer": "ipython3",
   "version": "3.7.1"
  },
  "toc": {
   "base_numbering": 1,
   "nav_menu": {},
   "number_sections": true,
   "sideBar": true,
   "skip_h1_title": false,
   "title_cell": "Table of Contents",
   "title_sidebar": "Contents",
   "toc_cell": false,
   "toc_position": {},
   "toc_section_display": true,
   "toc_window_display": false
  },
  "varInspector": {
   "cols": {
    "lenName": 16,
    "lenType": 16,
    "lenVar": 40
   },
   "kernels_config": {
    "python": {
     "delete_cmd_postfix": "",
     "delete_cmd_prefix": "del ",
     "library": "var_list.py",
     "varRefreshCmd": "print(var_dic_list())"
    },
    "r": {
     "delete_cmd_postfix": ") ",
     "delete_cmd_prefix": "rm(",
     "library": "var_list.r",
     "varRefreshCmd": "cat(var_dic_list()) "
    }
   },
   "types_to_exclude": [
    "module",
    "function",
    "builtin_function_or_method",
    "instance",
    "_Feature"
   ],
   "window_display": false
  }
 },
 "nbformat": 4,
 "nbformat_minor": 2
}
