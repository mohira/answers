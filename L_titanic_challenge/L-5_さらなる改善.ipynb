{
 "cells": [
  {
   "cell_type": "markdown",
   "metadata": {},
   "source": [
    "# README\n",
    "## hintになりそうカーネル\n",
    "- https://www.kaggle.com/gunesevitan/advanced-feature-engineering-tutorial-with-titanic\n",
    "    - cabinの考察"
   ]
  },
  {
   "cell_type": "code",
   "execution_count": 1,
   "metadata": {
    "ExecuteTime": {
     "end_time": "2019-10-05T10:29:09.697647Z",
     "start_time": "2019-10-05T10:29:09.243823Z"
    }
   },
   "outputs": [],
   "source": [
    "import warnings\n",
    "\n",
    "import matplotlib.pyplot as plt\n",
    "import numpy as np\n",
    "import pandas as pd\n",
    "import seaborn as sns\n",
    "from sklearn.linear_model import LogisticRegression\n",
    "from sklearn.model_selection import GridSearchCV, StratifiedKFold\n",
    "from sklearn.pipeline import Pipeline\n",
    "from sklearn.preprocessing import StandardScaler\n",
    "\n",
    "warnings.filterwarnings('ignore')\n",
    "\n",
    "%matplotlib inline"
   ]
  },
  {
   "cell_type": "code",
   "execution_count": 2,
   "metadata": {
    "ExecuteTime": {
     "end_time": "2019-10-05T10:29:09.731263Z",
     "start_time": "2019-10-05T10:29:09.699544Z"
    }
   },
   "outputs": [],
   "source": [
    "train_org = pd.read_csv('input/titanic/train.csv')\n",
    "test_org = pd.read_csv('input/titanic/test.csv')\n",
    "\n",
    "train = train_org[[\n",
    "    # 'PassengerId',\n",
    "    'Survived',\n",
    "    'Pclass',\n",
    "    'Name',\n",
    "    'Sex',\n",
    "    # 'Age',\n",
    "    'SibSp',\n",
    "    'Parch',\n",
    "    # 'Ticket',\n",
    "    'Fare',\n",
    "    # 'Cabin',\n",
    "    'Embarked'\n",
    "]].copy()\n",
    "\n",
    "test = test_org[[\n",
    "    'PassengerId',  # 男女別に予測値を出してから結合するための情報として使う\n",
    "    'Pclass',\n",
    "    'Name',\n",
    "    'Sex',\n",
    "    # 'Age',\n",
    "    'SibSp',\n",
    "    'Parch',\n",
    "    # 'Ticket',\n",
    "    'Fare',\n",
    "    # 'Cabin',\n",
    "    'Embarked'\n",
    "]].copy()"
   ]
  },
  {
   "cell_type": "markdown",
   "metadata": {},
   "source": [
    "# 男女別でFareを観察"
   ]
  },
  {
   "cell_type": "code",
   "execution_count": 16,
   "metadata": {
    "ExecuteTime": {
     "end_time": "2019-10-05T10:30:15.630453Z",
     "start_time": "2019-10-05T10:30:15.240912Z"
    }
   },
   "outputs": [
    {
     "data": {
      "image/png": "[encoded data removed]",
      "text/plain": [
       "<Figure size 432x288 with 1 Axes>"
      ]
     },
     "metadata": {
      "needs_background": "light"
     },
     "output_type": "display_data"
    },
    {
     "data": {
      "image/png": "[encoded data removed]",
      "text/plain": [
       "<Figure size 432x288 with 1 Axes>"
      ]
     },
     "metadata": {
      "needs_background": "light"
     },
     "output_type": "display_data"
    }
   ],
   "source": [
    "# Fareによる違い\n",
    "male = train_org[train_org['Sex']=='male'][['Survived','Fare']].copy()\n",
    "\n",
    "male['SFare'] = StandardScaler().fit_transform(male[['Fare']])\n",
    "\n",
    "sns.distplot(male[male['Survived']==1]['SFare'].clip(upper=1), kde=False, label='Survived')\n",
    "sns.distplot(male[male['Survived']==0]['SFare'].clip(upper=1), kde=False, label='Dead')\n",
    "\n",
    "plt.legend()\n",
    "plt.title('Male')\n",
    "plt.show()\n",
    "\n",
    "\n",
    "female = train_org[train_org['Sex']=='female'][['Survived','Fare']].copy()\n",
    "female['SFare'] = StandardScaler().fit_transform(female[['Fare']])\n",
    "\n",
    "sns.distplot(female[female['Survived']==1]['SFare'].clip(upper=1), kde=False, label='Survived')\n",
    "sns.distplot(female[female['Survived']==0]['SFare'].clip(upper=1), kde=False, label='Dead')\n",
    "\n",
    "plt.legend()\n",
    "plt.title('Female')\n",
    "plt.show()\n"
   ]
  },
  {
   "cell_type": "markdown",
   "metadata": {},
   "source": [
    "# 前処理"
   ]
  },
  {
   "cell_type": "code",
   "execution_count": 14,
   "metadata": {
    "ExecuteTime": {
     "end_time": "2019-10-05T10:29:49.712205Z",
     "start_time": "2019-10-05T10:29:49.657298Z"
    }
   },
   "outputs": [
    {
     "data": {
      "text/html": [
       "<div>\n",
       "<style scoped>\n",
       "    .dataframe tbody tr th:only-of-type {\n",
       "        vertical-align: middle;\n",
       "    }\n",
       "\n",
       "    .dataframe tbody tr th {\n",
       "        vertical-align: top;\n",
       "    }\n",
       "\n",
       "    .dataframe thead th {\n",
       "        text-align: right;\n",
       "    }\n",
       "</style>\n",
       "<table border=\"1\" class=\"dataframe\">\n",
       "  <thead>\n",
       "    <tr style=\"text-align: right;\">\n",
       "      <th></th>\n",
       "      <th>Pclass</th>\n",
       "      <th>Fare</th>\n",
       "      <th>Embarked</th>\n",
       "      <th>FamilySize</th>\n",
       "      <th>IsMaster</th>\n",
       "    </tr>\n",
       "  </thead>\n",
       "  <tbody>\n",
       "    <tr>\n",
       "      <td>0</td>\n",
       "      <td>3</td>\n",
       "      <td>7.2500</td>\n",
       "      <td>0</td>\n",
       "      <td>2</td>\n",
       "      <td>0</td>\n",
       "    </tr>\n",
       "    <tr>\n",
       "      <td>4</td>\n",
       "      <td>3</td>\n",
       "      <td>8.0500</td>\n",
       "      <td>0</td>\n",
       "      <td>1</td>\n",
       "      <td>0</td>\n",
       "    </tr>\n",
       "    <tr>\n",
       "      <td>5</td>\n",
       "      <td>3</td>\n",
       "      <td>8.4583</td>\n",
       "      <td>2</td>\n",
       "      <td>1</td>\n",
       "      <td>0</td>\n",
       "    </tr>\n",
       "    <tr>\n",
       "      <td>6</td>\n",
       "      <td>1</td>\n",
       "      <td>51.8625</td>\n",
       "      <td>0</td>\n",
       "      <td>1</td>\n",
       "      <td>0</td>\n",
       "    </tr>\n",
       "    <tr>\n",
       "      <td>7</td>\n",
       "      <td>3</td>\n",
       "      <td>21.0750</td>\n",
       "      <td>0</td>\n",
       "      <td>5</td>\n",
       "      <td>1</td>\n",
       "    </tr>\n",
       "  </tbody>\n",
       "</table>\n",
       "</div>"
      ],
      "text/plain": [
       "   Pclass     Fare  Embarked  FamilySize  IsMaster\n",
       "0       3   7.2500         0           2         0\n",
       "4       3   8.0500         0           1         0\n",
       "5       3   8.4583         2           1         0\n",
       "6       1  51.8625         0           1         0\n",
       "7       3  21.0750         0           5         1"
      ]
     },
     "execution_count": 14,
     "metadata": {},
     "output_type": "execute_result"
    }
   ],
   "source": [
    "# データが小さいことに加え、すぐに試せることを重視して、すべての前処理を1つの関数にしている\n",
    "def preprocess(train_org, test_org):\n",
    "    train = train_org.copy()\n",
    "    test = test_org.copy()\n",
    "\n",
    "    # Embarked\n",
    "    train['Embarked'] = train['Embarked'].fillna('S')\n",
    "    embarked_dict = {'S': 0, 'C': 1, 'Q': 2}\n",
    "    train['Embarked'] = train['Embarked'].map(embarked_dict)\n",
    "    test['Embarked'] = test['Embarked'].map(embarked_dict)\n",
    "\n",
    "    # Family\n",
    "    train['FamilySize'] = train['SibSp'] + train['Parch'] + 1\n",
    "    train.drop(columns=['SibSp', 'Parch'], inplace=True)\n",
    "    test['FamilySize'] = test['SibSp'] + test['Parch'] + 1\n",
    "    test.drop(columns=['SibSp', 'Parch'], inplace=True)\n",
    "\n",
    "    # IsMaster\n",
    "    train['Title'] = train['Name'].str.extract(r',\\s([a-zA-Z]+)\\.')\n",
    "    train['IsMaster'] = (train['Title'] == 'Master').astype(int)\n",
    "    train.drop(columns=['Name', 'Title'], inplace=True)\n",
    "    test['Title'] = test['Name'].str.extract(r',\\s([a-zA-Z]+)\\.')\n",
    "    test['IsMaster'] = (test['Title'] == 'Master').astype(int)\n",
    "    test.drop(columns=['Name', 'Title'], inplace=True)\n",
    "\n",
    "    # 性別でDF分割\n",
    "    train_male = train[train['Sex'] == 'male']\n",
    "    X_train_male = train_male.drop(columns=['Sex', 'Survived'])\n",
    "    y_train_male = train_male['Survived']\n",
    "\n",
    "    train_female = train[train['Sex'] == 'female'].drop(columns=['IsMaster'])\n",
    "    X_train_female = train_female.drop(columns=['Sex', 'Survived'])\n",
    "    y_train_female = train_female['Survived']\n",
    "\n",
    "    X_test_male = test[test['Sex'] == 'male'].drop(columns=['Sex'])\n",
    "    X_test_female = test[test['Sex'] == 'female'].drop(columns=['Sex']).drop(\n",
    "        columns=['IsMaster'])\n",
    "\n",
    "\n",
    "    return X_train_male, y_train_male, \\\n",
    "        X_train_female, y_train_female, \\\n",
    "        X_test_male, X_test_female\n",
    "\n",
    "\n",
    "X_train_male, y_train_male, X_train_female, y_train_female, X_test_male, X_test_female = preprocess(train, test)\n",
    "\n",
    "X_train_male.head()"
   ]
  },
  {
   "cell_type": "markdown",
   "metadata": {},
   "source": [
    "# Building models"
   ]
  },
  {
   "cell_type": "code",
   "execution_count": 6,
   "metadata": {
    "ExecuteTime": {
     "end_time": "2019-10-05T10:29:10.595870Z",
     "start_time": "2019-10-05T10:29:10.578410Z"
    }
   },
   "outputs": [],
   "source": [
    "skf = StratifiedKFold(n_splits=10, random_state=0)"
   ]
  },
  {
   "cell_type": "code",
   "execution_count": 7,
   "metadata": {
    "ExecuteTime": {
     "end_time": "2019-10-05T10:29:10.615827Z",
     "start_time": "2019-10-05T10:29:10.597628Z"
    }
   },
   "outputs": [],
   "source": [
    "def show_coefs_from_grid(grid, train):\n",
    "    best_logreg = grid.best_estimator_.named_steps['logreg']\n",
    "\n",
    "    for col_name, coef in zip(train.columns, best_logreg.coef_[0]):\n",
    "        print(f'{coef:.4f}{col_name} + ', end='')\n",
    "\n",
    "    intercept = best_logreg.intercept_[0]\n",
    "    print(f'{intercept:.4f}')"
   ]
  },
  {
   "cell_type": "markdown",
   "metadata": {},
   "source": [
    "## Male"
   ]
  },
  {
   "cell_type": "code",
   "execution_count": 8,
   "metadata": {
    "ExecuteTime": {
     "end_time": "2019-10-05T10:29:11.994885Z",
     "start_time": "2019-10-05T10:29:10.617126Z"
    },
    "scrolled": true
   },
   "outputs": [
    {
     "name": "stdout",
     "output_type": "stream",
     "text": [
      "{'logreg__C': 10} 0.8457538994800693\n",
      "Male model: -0.3807Pclass + 0.0475Embarked + -1.1097FamilySize + 1.1277IsMaster + -0.4080SFare + -1.7449\n"
     ]
    }
   ],
   "source": [
    "pipe_male = Pipeline([('scaler', StandardScaler()),\n",
    "                      ('logreg', LogisticRegression())])\n",
    "\n",
    "param_grid_male = {'logreg__C': [10**x for x in range(-3, 3)]}\n",
    "\n",
    "grid_male = GridSearchCV(estimator=pipe_male,\n",
    "                         param_grid=param_grid_male,\n",
    "                         scoring='accuracy',\n",
    "                         cv=skf,\n",
    "                         n_jobs=-1)\n",
    "\n",
    "grid_male = grid_male.fit(X_train_male, y_train_male)\n",
    "\n",
    "print(grid_male.best_params_, grid_male.best_score_)\n",
    "\n",
    "print('Male model: ', end='')\n",
    "show_coefs_from_grid(grid_male, X_train_male)"
   ]
  },
  {
   "cell_type": "code",
   "execution_count": 9,
   "metadata": {
    "ExecuteTime": {
     "end_time": "2019-10-05T10:29:12.020324Z",
     "start_time": "2019-10-05T10:29:11.996337Z"
    }
   },
   "outputs": [
    {
     "data": {
      "text/plain": [
       "array([0, 0, 0, 0, 0, 0, 0, 0, 0, 0, 0, 0, 1, 0, 0, 0, 0, 0, 0, 0, 0, 0,\n",
       "       0, 0, 0, 0, 0, 0, 0, 0, 0, 0, 0, 0, 0, 0, 0, 0, 0, 0, 1, 0, 0, 0,\n",
       "       0, 0, 0, 0, 1, 0, 0, 0, 0, 0, 1, 0, 0, 0, 0, 0, 0, 0, 0, 0, 0, 0,\n",
       "       0, 0, 0, 0, 0, 0, 0, 0, 0, 0, 0, 0, 0, 0, 0, 0, 0, 0, 0, 0, 0, 0,\n",
       "       0, 0, 0, 0, 0, 0, 0, 0, 0, 0, 0, 0, 1, 0, 0, 0, 0, 0, 0, 0, 0, 0,\n",
       "       0, 0, 0, 0, 0, 0, 0, 0, 0, 1, 0, 1, 0, 1, 0, 1, 0, 0, 0, 0, 0, 0,\n",
       "       0, 0, 0, 0, 0, 0, 0, 0, 0, 0, 0, 0, 0, 0, 0, 0, 0, 0, 0, 1, 0, 0,\n",
       "       0, 0, 0, 0, 0, 0, 0, 0, 0, 0, 0, 0, 0, 0, 0, 0, 0, 0, 0, 0, 0, 0,\n",
       "       1, 0, 0, 0, 0, 0, 0, 0, 0, 0, 0, 0, 0, 0, 0, 0, 0, 0, 0, 1, 0, 0,\n",
       "       0, 0, 0, 0, 0, 0, 0, 0, 0, 0, 0, 0, 0, 0, 0, 0, 0, 0, 0, 0, 0, 1,\n",
       "       0, 0, 0, 1, 0, 0, 0, 0, 0, 0, 0, 0, 0, 0, 0, 0, 0, 0, 0, 0, 0, 0,\n",
       "       0, 0, 0, 0, 0, 0, 1, 0, 1, 0, 0, 0, 0, 0, 0, 0, 0, 0, 0, 0, 0, 0,\n",
       "       0, 1])"
      ]
     },
     "execution_count": 9,
     "metadata": {},
     "output_type": "execute_result"
    }
   ],
   "source": [
    "y_pred_male = grid_male.predict(X_test_male.drop(columns=['PassengerId']))\n",
    "y_pred_male"
   ]
  },
  {
   "cell_type": "markdown",
   "metadata": {},
   "source": [
    "## Female"
   ]
  },
  {
   "cell_type": "code",
   "execution_count": 10,
   "metadata": {
    "ExecuteTime": {
     "end_time": "2019-10-05T10:29:12.212745Z",
     "start_time": "2019-10-05T10:29:12.021641Z"
    }
   },
   "outputs": [
    {
     "name": "stdout",
     "output_type": "stream",
     "text": [
      "{'logreg__C': 0.1} 0.7961783439490446\n",
      "Female model: -1.0138Pclass + 0.0562Fare + 0.2413Embarked + -0.3979FamilySize + 1.1361\n"
     ]
    }
   ],
   "source": [
    "pipe_female = Pipeline([('scaler', StandardScaler()),\n",
    "                        ('logreg', LogisticRegression())])\n",
    "\n",
    "param_grid_female = {'logreg__C': [10**x for x in range(-3, 3)]}\n",
    "\n",
    "grid_female = GridSearchCV(estimator=pipe_female,\n",
    "                           param_grid=param_grid_female,\n",
    "                           scoring='accuracy',\n",
    "                           cv=skf,\n",
    "                           n_jobs=-1)\n",
    "\n",
    "grid_female = grid_female.fit(X_train_female, y_train_female)\n",
    "\n",
    "print(grid_female.best_params_, grid_female.best_score_)\n",
    "print('Female model: ', end='')\n",
    "show_coefs_from_grid(grid_female, X_train_female)"
   ]
  },
  {
   "cell_type": "code",
   "execution_count": 11,
   "metadata": {
    "ExecuteTime": {
     "end_time": "2019-10-05T10:29:12.235864Z",
     "start_time": "2019-10-05T10:29:12.214200Z"
    }
   },
   "outputs": [
    {
     "data": {
      "text/plain": [
       "array([1, 0, 1, 1, 1, 1, 1, 1, 1, 1, 1, 1, 0, 0, 1, 1, 1, 1, 1, 0, 1, 1,\n",
       "       1, 1, 1, 1, 1, 1, 1, 1, 1, 1, 1, 1, 1, 1, 1, 1, 1, 1, 1, 1, 1, 1,\n",
       "       1, 0, 1, 1, 1, 1, 1, 0, 1, 0, 1, 1, 0, 1, 1, 0, 1, 1, 0, 1, 1, 1,\n",
       "       1, 1, 1, 1, 1, 1, 0, 1, 1, 1, 1, 1, 1, 1, 0, 1, 1, 1, 1, 1, 1, 1,\n",
       "       1, 1, 1, 1, 1, 1, 1, 1, 1, 1, 1, 0, 1, 1, 1, 1, 1, 1, 1, 0, 1, 1,\n",
       "       1, 1, 1, 1, 1, 1, 1, 1, 1, 1, 1, 1, 1, 1, 1, 0, 1, 1, 1, 1, 1, 0,\n",
       "       1, 1, 1, 1, 1, 0, 1, 1, 1, 1, 1, 1, 1, 1, 1, 0, 1, 1, 1, 1])"
      ]
     },
     "execution_count": 11,
     "metadata": {},
     "output_type": "execute_result"
    }
   ],
   "source": [
    "y_pred_female = grid_female.predict(\n",
    "    X_test_female.drop(columns=['PassengerId']))\n",
    "y_pred_female"
   ]
  },
  {
   "cell_type": "markdown",
   "metadata": {},
   "source": [
    "# Submission"
   ]
  },
  {
   "cell_type": "markdown",
   "metadata": {},
   "source": [
    "## 男女別の予測を結合する"
   ]
  },
  {
   "cell_type": "code",
   "execution_count": 12,
   "metadata": {
    "ExecuteTime": {
     "end_time": "2019-10-05T10:29:12.261904Z",
     "start_time": "2019-10-05T10:29:12.237181Z"
    }
   },
   "outputs": [
    {
     "data": {
      "text/plain": [
       "PassengerId    0\n",
       "Survived       0\n",
       "dtype: int64"
      ]
     },
     "execution_count": 12,
     "metadata": {},
     "output_type": "execute_result"
    }
   ],
   "source": [
    "submit_male = X_test_male[['PassengerId']].copy()\n",
    "submit_female = X_test_female[['PassengerId']].copy()\n",
    "\n",
    "submit_male['Survived'] = y_pred_male\n",
    "submit_female['Survived'] = y_pred_female\n",
    "\n",
    "submit_data = pd.concat([submit_male,\n",
    "                         submit_female]).sort_values('PassengerId')\n",
    "\n",
    "submit_data.isnull().sum()"
   ]
  },
  {
   "cell_type": "markdown",
   "metadata": {},
   "source": [
    "## Age欠損 => 死亡"
   ]
  },
  {
   "cell_type": "code",
   "execution_count": 13,
   "metadata": {
    "ExecuteTime": {
     "end_time": "2019-10-05T10:29:12.288999Z",
     "start_time": "2019-10-05T10:29:12.263052Z"
    }
   },
   "outputs": [],
   "source": [
    "submit_data['Age'] = test_org['Age']\n",
    "submit_data.loc[submit_data['Age'].isna(), 'Survived'] = 0\n",
    "\n",
    "assert [0] == submit_data[submit_data['Age'].isnull()]['Survived'].unique()\n",
    "\n",
    "submit_data.drop(columns=['Age'], inplace=True)\n",
    "submit_data.to_csv('submission/gender_models_age_nan_is_dead.csv', index=False)"
   ]
  },
  {
   "cell_type": "markdown",
   "metadata": {},
   "source": [
    "おわり"
   ]
  },
  {
   "cell_type": "code",
   "execution_count": null,
   "metadata": {},
   "outputs": [],
   "source": []
  },
  {
   "cell_type": "code",
   "execution_count": null,
   "metadata": {},
   "outputs": [],
   "source": []
  }
 ],
 "metadata": {
  "hide_input": false,
  "kernelspec": {
   "display_name": "Python 3",
   "language": "python",
   "name": "python3"
  },
  "language_info": {
   "codemirror_mode": {
    "name": "ipython",
    "version": 3
   },
   "file_extension": ".py",
   "mimetype": "text/x-python",
   "name": "python",
   "nbconvert_exporter": "python",
   "pygments_lexer": "ipython3",
   "version": "3.7.1"
  },
  "toc": {
   "base_numbering": 1,
   "nav_menu": {},
   "number_sections": true,
   "sideBar": true,
   "skip_h1_title": false,
   "title_cell": "Table of Contents",
   "title_sidebar": "Contents",
   "toc_cell": false,
   "toc_position": {},
   "toc_section_display": true,
   "toc_window_display": false
  },
  "varInspector": {
   "cols": {
    "lenName": 16,
    "lenType": 16,
    "lenVar": 40
   },
   "kernels_config": {
    "python": {
     "delete_cmd_postfix": "",
     "delete_cmd_prefix": "del ",
     "library": "var_list.py",
     "varRefreshCmd": "print(var_dic_list())"
    },
    "r": {
     "delete_cmd_postfix": ") ",
     "delete_cmd_prefix": "rm(",
     "library": "var_list.r",
     "varRefreshCmd": "cat(var_dic_list()) "
    }
   },
   "types_to_exclude": [
    "module",
    "function",
    "builtin_function_or_method",
    "instance",
    "_Feature"
   ],
   "window_display": false
  }
 },
 "nbformat": 4,
 "nbformat_minor": 2
}
