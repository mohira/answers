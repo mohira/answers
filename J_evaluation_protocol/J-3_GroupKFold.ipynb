{
 "cells": [
  {
   "cell_type": "markdown",
   "metadata": {},
   "source": [
    "# REAME\n",
    "- [sklearn.datasets.load_breast_cancer](https://scikit-learn.org/stable/modules/generated/sklearn.datasets.load_breast_cancer.html#sklearn.datasets.load_breast_cancer)\n",
    " を使い、GroupKFold を行う\n",
    "- EDAは省略\n"
   ]
  },
  {
   "cell_type": "code",
   "execution_count": 1,
   "metadata": {
    "ExecuteTime": {
     "end_time": "2019-10-03T04:45:32.346809Z",
     "start_time": "2019-10-03T04:45:31.957595Z"
    }
   },
   "outputs": [],
   "source": [
    "import warnings\n",
    "\n",
    "import matplotlib.pyplot as plt\n",
    "import numpy as np\n",
    "import pandas as pd\n",
    "import seaborn as sns\n",
    "\n",
    "warnings.filterwarnings('ignore')\n",
    "\n",
    "%precision 3\n",
    "%matplotlib inline"
   ]
  },
  {
   "cell_type": "markdown",
   "metadata": {},
   "source": [
    "# 小さなデータでGroupKFoldの動きを理解する"
   ]
  },
  {
   "cell_type": "code",
   "execution_count": 2,
   "metadata": {
    "ExecuteTime": {
     "end_time": "2019-10-03T04:45:32.373983Z",
     "start_time": "2019-10-03T04:45:32.348138Z"
    }
   },
   "outputs": [
    {
     "data": {
      "text/html": [
       "<div>\n",
       "<style scoped>\n",
       "    .dataframe tbody tr th:only-of-type {\n",
       "        vertical-align: middle;\n",
       "    }\n",
       "\n",
       "    .dataframe tbody tr th {\n",
       "        vertical-align: top;\n",
       "    }\n",
       "\n",
       "    .dataframe thead th {\n",
       "        text-align: right;\n",
       "    }\n",
       "</style>\n",
       "<table border=\"1\" class=\"dataframe\">\n",
       "  <thead>\n",
       "    <tr style=\"text-align: right;\">\n",
       "      <th></th>\n",
       "      <th>height</th>\n",
       "      <th>score</th>\n",
       "      <th>club</th>\n",
       "    </tr>\n",
       "  </thead>\n",
       "  <tbody>\n",
       "    <tr>\n",
       "      <td>0</td>\n",
       "      <td>170</td>\n",
       "      <td>34</td>\n",
       "      <td>tennis</td>\n",
       "    </tr>\n",
       "    <tr>\n",
       "      <td>1</td>\n",
       "      <td>171</td>\n",
       "      <td>29</td>\n",
       "      <td>soccer</td>\n",
       "    </tr>\n",
       "    <tr>\n",
       "      <td>2</td>\n",
       "      <td>167</td>\n",
       "      <td>55</td>\n",
       "      <td>soccer</td>\n",
       "    </tr>\n",
       "    <tr>\n",
       "      <td>3</td>\n",
       "      <td>153</td>\n",
       "      <td>21</td>\n",
       "      <td>baseball</td>\n",
       "    </tr>\n",
       "    <tr>\n",
       "      <td>4</td>\n",
       "      <td>158</td>\n",
       "      <td>19</td>\n",
       "      <td>tennis</td>\n",
       "    </tr>\n",
       "    <tr>\n",
       "      <td>5</td>\n",
       "      <td>192</td>\n",
       "      <td>50</td>\n",
       "      <td>baseball</td>\n",
       "    </tr>\n",
       "  </tbody>\n",
       "</table>\n",
       "</div>"
      ],
      "text/plain": [
       "   height  score      club\n",
       "0     170     34    tennis\n",
       "1     171     29    soccer\n",
       "2     167     55    soccer\n",
       "3     153     21  baseball\n",
       "4     158     19    tennis\n",
       "5     192     50  baseball"
      ]
     },
     "execution_count": 2,
     "metadata": {},
     "output_type": "execute_result"
    }
   ],
   "source": [
    "\"\"\"\n",
    "学生の身長と運動試験の得点のデータを考えます。\n",
    "ポイントは、学生ごとに所属している部活が違う点です(テニス、サッカー、野球)。\n",
    "\"\"\"\n",
    "df = pd.DataFrame()\n",
    "df['height'] = [170, 171, 167, 153, 158, 192]\n",
    "df['score'] = [34, 29, 55, 21, 19, 50]\n",
    "df['club'] = ['tennis', 'soccer', 'soccer', 'baseball', 'tennis', 'baseball']\n",
    "df"
   ]
  },
  {
   "cell_type": "code",
   "execution_count": 3,
   "metadata": {
    "ExecuteTime": {
     "end_time": "2019-10-03T04:45:32.487463Z",
     "start_time": "2019-10-03T04:45:32.375278Z"
    }
   },
   "outputs": [],
   "source": [
    "from sklearn.model_selection import GroupKFold\n",
    "\n",
    "gkf = GroupKFold(n_splits=3)"
   ]
  },
  {
   "cell_type": "code",
   "execution_count": 4,
   "metadata": {
    "ExecuteTime": {
     "end_time": "2019-10-03T04:45:32.513424Z",
     "start_time": "2019-10-03T04:45:32.489192Z"
    }
   },
   "outputs": [
    {
     "name": "stdout",
     "output_type": "stream",
     "text": [
      "[1 2 3 5] [0 4]\n",
      "[0 3 4 5] [1 2]\n",
      "[0 1 2 4] [3 5]\n"
     ]
    }
   ],
   "source": [
    "# groups にグループを分ける情報を渡すと、\n",
    "# 同じグループのデータは 訓練 か 検証 のどちらか固まります\n",
    "for train_index, valid_index in gkf.split(df, groups=df['club']):\n",
    "    print(train_index, valid_index)"
   ]
  },
  {
   "cell_type": "markdown",
   "metadata": {},
   "source": [
    "# cancerデータでやってみる\n",
    "- 同一の患者のデータが複数あったと仮定しましょう\n",
    "- 訓練と検証に同じ患者がいると予測が簡単になるので、固まらないようにしたい"
   ]
  },
  {
   "cell_type": "code",
   "execution_count": 5,
   "metadata": {
    "ExecuteTime": {
     "end_time": "2019-10-03T04:45:32.554388Z",
     "start_time": "2019-10-03T04:45:32.514625Z"
    }
   },
   "outputs": [],
   "source": [
    "from sklearn.datasets import load_breast_cancer\n",
    "from sklearn.model_selection import train_test_split\n",
    "\n",
    "cancer = load_breast_cancer()\n",
    "\n",
    "# 実験なので適当にデータを小さくする\n",
    "N = 200\n",
    "X = cancer.data[:N, :2]\n",
    "\n",
    "# 勝手に患者IDを振ります\n",
    "X = np.concatenate([X,\n",
    "                    np.random.randint(0, 5, size=(N, 1))\n",
    "                    ], axis=1)\n",
    "\n",
    "y = cancer.target[:N]\n",
    "\n",
    "X_trainval, X_test, y_trainval, y_test = train_test_split(X,\n",
    "                                                          y,\n",
    "                                                          train_size=0.80,\n",
    "                                                          random_state=0)"
   ]
  },
  {
   "cell_type": "code",
   "execution_count": 6,
   "metadata": {
    "ExecuteTime": {
     "end_time": "2019-10-03T04:45:32.581996Z",
     "start_time": "2019-10-03T04:45:32.557504Z"
    }
   },
   "outputs": [
    {
     "data": {
      "text/html": [
       "<div>\n",
       "<style scoped>\n",
       "    .dataframe tbody tr th:only-of-type {\n",
       "        vertical-align: middle;\n",
       "    }\n",
       "\n",
       "    .dataframe tbody tr th {\n",
       "        vertical-align: top;\n",
       "    }\n",
       "\n",
       "    .dataframe thead th {\n",
       "        text-align: right;\n",
       "    }\n",
       "</style>\n",
       "<table border=\"1\" class=\"dataframe\">\n",
       "  <thead>\n",
       "    <tr style=\"text-align: right;\">\n",
       "      <th></th>\n",
       "      <th>a</th>\n",
       "      <th>b</th>\n",
       "      <th>patient_id</th>\n",
       "    </tr>\n",
       "  </thead>\n",
       "  <tbody>\n",
       "    <tr>\n",
       "      <td>0</td>\n",
       "      <td>18.450</td>\n",
       "      <td>21.91</td>\n",
       "      <td>4.0</td>\n",
       "    </tr>\n",
       "    <tr>\n",
       "      <td>1</td>\n",
       "      <td>9.465</td>\n",
       "      <td>21.01</td>\n",
       "      <td>2.0</td>\n",
       "    </tr>\n",
       "    <tr>\n",
       "      <td>2</td>\n",
       "      <td>14.580</td>\n",
       "      <td>21.53</td>\n",
       "      <td>4.0</td>\n",
       "    </tr>\n",
       "    <tr>\n",
       "      <td>3</td>\n",
       "      <td>10.510</td>\n",
       "      <td>20.19</td>\n",
       "      <td>3.0</td>\n",
       "    </tr>\n",
       "    <tr>\n",
       "      <td>4</td>\n",
       "      <td>17.470</td>\n",
       "      <td>24.68</td>\n",
       "      <td>2.0</td>\n",
       "    </tr>\n",
       "  </tbody>\n",
       "</table>\n",
       "</div>"
      ],
      "text/plain": [
       "        a      b  patient_id\n",
       "0  18.450  21.91         4.0\n",
       "1   9.465  21.01         2.0\n",
       "2  14.580  21.53         4.0\n",
       "3  10.510  20.19         3.0\n",
       "4  17.470  24.68         2.0"
      ]
     },
     "execution_count": 6,
     "metadata": {},
     "output_type": "execute_result"
    }
   ],
   "source": [
    "# XのみをDFにして確認しておく\n",
    "df_trainval = pd.DataFrame(X_trainval, columns=['a', 'b', 'patient_id'])\n",
    "df_test = pd.DataFrame(X_test, columns=['a', 'b', 'patient_id'])\n",
    "\n",
    "df_trainval.head()"
   ]
  },
  {
   "cell_type": "markdown",
   "metadata": {},
   "source": [
    "## GroupKFoldの場合\n"
   ]
  },
  {
   "cell_type": "code",
   "execution_count": 7,
   "metadata": {
    "ExecuteTime": {
     "end_time": "2019-10-03T04:45:32.611279Z",
     "start_time": "2019-10-03T04:45:32.584218Z"
    }
   },
   "outputs": [
    {
     "name": "stdout",
     "output_type": "stream",
     "text": [
      "[4. 3. 1. 0.] [2.]\n",
      "[4. 2. 3. 0.] [1.]\n",
      "[4. 2. 3. 1.] [0.]\n",
      "[2. 1. 0.] [4. 3.]\n"
     ]
    }
   ],
   "source": [
    "gkf = GroupKFold(n_splits=4)\n",
    "\n",
    "\n",
    "for train_index, valid_index in gkf.split(df_trainval, y_trainval, df_trainval['patient_id']):\n",
    "    X_train, X_valid = df_trainval.iloc[train_index], df_trainval.iloc[valid_index]\n",
    "    y_train, y_valid = y_trainval[train_index], y_trainval[valid_index]\n",
    "\n",
    "    # 同一グループが訓練と検証の両方に登場していないことを確認\n",
    "    print(X_train['patient_id'].unique(), X_valid['patient_id'].unique())\n",
    "    # 以降の学習コードは省略"
   ]
  },
  {
   "cell_type": "markdown",
   "metadata": {},
   "source": [
    "\n",
    "## GroupKFold はシャッフルと乱数シードが使えない問題\n",
    "- シャッフルが使えない → 偏りが起きてしまうかもしれない\n",
    "- 乱数シードが使えない → 再現しにくい\n",
    "- KFoldを使って実装することが多い"
   ]
  },
  {
   "cell_type": "code",
   "execution_count": 8,
   "metadata": {
    "ExecuteTime": {
     "end_time": "2019-10-03T04:45:32.644587Z",
     "start_time": "2019-10-03T04:45:32.612479Z"
    }
   },
   "outputs": [
    {
     "name": "stdout",
     "output_type": "stream",
     "text": [
      "[2. 1. 0.] [4. 3.]\n",
      "[2. 1. 0.] [4. 3.]\n",
      "[4. 3. 1. 0.] [2.]\n",
      "[4. 3. 1. 0.] [2.]\n",
      "[4. 2. 3. 0.] [1.]\n",
      "[4. 2. 3. 0.] [1.]\n",
      "[4. 2. 3. 1.] [0.]\n",
      "[4. 2. 3. 1.] [0.]\n"
     ]
    }
   ],
   "source": [
    "from sklearn.model_selection import KFold\n",
    "\n",
    "kf = KFold(n_splits=4, shuffle=True, random_state=0)\n",
    "\n",
    "patient_ids = df_trainval['patient_id']\n",
    "unique_patient_ids = df_trainval['patient_id'].unique()\n",
    "\n",
    "for train_group_index, valid_group_index in kf.split(unique_patient_ids):\n",
    "    train_groups = unique_patient_ids[train_group_index]\n",
    "    valid_groups = unique_patient_ids[valid_group_index]\n",
    "    \n",
    "    # グループごとのIDを抽出していることを確認\n",
    "    print(train_groups, valid_groups)\n",
    "\n",
    "    train_index = patient_ids.isin(train_groups)\n",
    "    valid_index = patient_ids.isin(valid_groups)\n",
    "\n",
    "    X_train = df_trainval[train_index]\n",
    "    X_valid = df_trainval[valid_index]\n",
    "    \n",
    "    # 同一グループが訓練と検証の両方に登場していないことを確認\n",
    "    print(X_train['patient_id'].unique(), X_valid['patient_id'].unique())\n",
    "\n",
    "    # 学習コードは省略(他の交差検証と変わらない)"
   ]
  },
  {
   "cell_type": "markdown",
   "metadata": {},
   "source": [
    "おわり"
   ]
  }
 ],
 "metadata": {
  "hide_input": false,
  "kernelspec": {
   "display_name": "Python 3",
   "language": "python",
   "name": "python3"
  },
  "language_info": {
   "codemirror_mode": {
    "name": "ipython",
    "version": 3
   },
   "file_extension": ".py",
   "mimetype": "text/x-python",
   "name": "python",
   "nbconvert_exporter": "python",
   "pygments_lexer": "ipython3",
   "version": "3.7.1"
  },
  "toc": {
   "base_numbering": 1,
   "nav_menu": {},
   "number_sections": true,
   "sideBar": true,
   "skip_h1_title": false,
   "title_cell": "Table of Contents",
   "title_sidebar": "Contents",
   "toc_cell": false,
   "toc_position": {},
   "toc_section_display": true,
   "toc_window_display": false
  },
  "varInspector": {
   "cols": {
    "lenName": 16,
    "lenType": 16,
    "lenVar": 40
   },
   "kernels_config": {
    "python": {
     "delete_cmd_postfix": "",
     "delete_cmd_prefix": "del ",
     "library": "var_list.py",
     "varRefreshCmd": "print(var_dic_list())"
    },
    "r": {
     "delete_cmd_postfix": ") ",
     "delete_cmd_prefix": "rm(",
     "library": "var_list.r",
     "varRefreshCmd": "cat(var_dic_list()) "
    }
   },
   "types_to_exclude": [
    "module",
    "function",
    "builtin_function_or_method",
    "instance",
    "_Feature"
   ],
   "window_display": false
  }
 },
 "nbformat": 4,
 "nbformat_minor": 2
}
